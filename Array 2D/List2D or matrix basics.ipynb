{
 "cells": [
  {
   "cell_type": "markdown",
   "id": "7c389e74",
   "metadata": {},
   "source": [
    "# Python 2D Lists (Matrices) for DSA & CP 🧑‍💻\n",
    "\n",
    "In Python, a 2D array or matrix is most commonly represented as a list of lists. Think of it as a list where each element is itself another list representing a row. This simple structure is incredibly powerful for solving grids, tables, or boards — which are frequent in DSA and CP.\n",
    "\n",
    "Below is a concrete visual example of a 3x4 matrix (3 rows, 4 columns):\n",
    "\n",
    "| Row Col | 0 | 1 | 2 | 3 |\n",
    "|---|---:|---:|---:|---:|\n",
    "| 0 | 1 | 2 | 3 | 4 |\n",
    "| 1 | 5 | 6 | 7 | 8 |\n",
    "| 2 | 9 | 10 | 11 | 12 |\n",
    "\n",
    "In Python this is represented as:\n",
    "```python\n",
    "matrix = [\n",
    "    [1, 2, 3, 4],  # Row 0\n",
    "    [5, 6, 7, 8],  # Row 1\n",
    "    [9, 10, 11, 12] # Row 2\n",
    "]\n",
    "```\n",
    "\n",
    "---\n",
    "\n",
    "## 1. Creating and Initializing 2D Lists\n",
    "How you create your matrix is crucial. A common mistake can lead to hours of debugging.\n",
    "\n",
    "The WRONG Way ❌\n",
    "A tempting shortcut is to use multiplication: it appears to create rows, but actually aliases the same inner list across all rows.\n",
    "```python\n",
    "rows, cols = 3, 4\n",
    "# AVOID THIS METHOD!\n",
    "wrong_matrix = [[0] * cols] * rows\n",
    "print(wrong_matrix)\n",
    "# [[0, 0, 0, 0], [0, 0, 0, 0], [0, 0, 0, 0]]\n",
    "\n",
    "# Now, let's change one element\n",
    "wrong_matrix[0][0] = 99\n",
    "print(wrong_matrix)\n",
    "# [[99, 0, 0, 0], [99, 0, 0, 0], [99, 0, 0, 0]]\n",
    "```\n",
    "\n",
    "Why is this wrong? The outer multiplication `* rows` does not create new, independent inner lists. Instead, it creates `rows` references to the same inner list object.\n",
    "\n",
    "The RIGHT Way ✅ (List Comprehension)\n",
    "Use a comprehension to create independent row objects: each `_` iteration builds a new inner list.\n",
    "```python\n",
    "rows, cols = 3, 4\n",
    "matrix = [[0 for _ in range(cols)] for _ in range(rows)]\n",
    "print(matrix)\n",
    "# [[0, 0, 0, 0], [0, 0, 0, 0], [0, 0, 0, 0]]\n",
    "matrix[0][0] = 99\n",
    "print(matrix)\n",
    "# [[99, 0, 0, 0], [0, 0, 0, 0], [0, 0, 0, 0]]\n",
    "```\n",
    "\n",
    "Reading from Input (Very Common in CP)\n",
    "When reading matrices in contests, you typically parse rows of integers. Two useful patterns: iterative read (clear) and bulk read (fast).\n",
    "```python\n",
    "# Iterative (common and clear)\n",
    "rows, cols = map(int, input().split())\n",
    "matrix = []\n",
    "for _ in range(rows):\n",
    "    row = list(map(int, input().split()))\n",
    "    matrix.append(row)\n",
    "\n",
    "# Compact comprehension form:\n",
    "# matrix = [list(map(int, input().split())) for _ in range(rows)]\n",
    "```\n",
    "\n",
    "For heavy input, use `sys.stdin.buffer.read()` and `split()` to parse all integers quickly — useful when there are many numbers.\n",
    "\n",
    "---\n",
    "\n",
    "## 2. Accessing and Modifying Elements\n",
    "Access elements with `matrix[row][col]` (0-based indexing).\n",
    "```python\n",
    "matrix = [[1, 2, 3], [4, 5, 6], [7, 8, 9]]\n",
    "rows = len(matrix)\n",
    "cols = len(matrix[0])  # assumes non-empty and rectangular\n",
    "\n",
    "# Access element at row 1, column 2 (value 6)\n",
    "element = matrix[1][2]\n",
    "print(f\"Element at (1, 2) is: {element}\")  # Output: 6\n",
    "\n",
    "# Modify an element\n",
    "matrix[0][0] = 100\n",
    "print(f\"Modified matrix: {matrix}\")\n",
    "# Output: [[100, 2, 3], [4, 5, 6], [7, 8, 9]]\n",
    "```\n",
    "\n",
    "---\n",
    "\n",
    "## 3. Traversing a 2D List\n",
    "You'll almost always need to iterate through a matrix. Here are common traversal patterns.\n",
    "\n",
    "### Using nested loops with indices (most common)\n",
    "This gives you coordinates (r, c), which is essential for graph traversals, DP, and many CP algorithms.\n",
    "```python\n",
    "rows = len(matrix)\n",
    "cols = len(matrix[0])\n",
    "for r in range(rows):\n",
    "    for c in range(cols):\n",
    "        print(f\"Element at ({r}, {c}) is {matrix[r][c]}\")\n",
    "```\n",
    "\n",
    "### Row-major iteration (slightly faster, read-only)\n",
    "```python\n",
    "for row in matrix:\n",
    "    for val in row:\n",
    "        # do something with val\n",
    "        pass\n",
    "```\n",
    "# Good to know Concepts on 2D Matrices\n",
    "- 2D Prefix Sums: The Range Query Powerhouse \n",
    "- Grid as a Graph: BFS & DFS Traversal \n",
    "- In-place Rotation: Saving Memory\n",
    "- Dynamic Programming on a Grid\n",
    "- Advanced Searching in a Sorted Matrix"
   ]
  },
  {
   "cell_type": "code",
   "execution_count": 8,
   "id": "6ee52c09",
   "metadata": {},
   "outputs": [
    {
     "name": "stdout",
     "output_type": "stream",
     "text": [
      "5 20 3 \n",
      "7 -10 9 \n",
      "1 -52 6 \n"
     ]
    }
   ],
   "source": [
    "# How to represent matrix in 2D list\n",
    "nums = [[5,20,3],[7,-10,9],[1,-52,6]]\n",
    "\n",
    "# Get length of Rows and Columns in 2D matrix\n",
    "rows = len(nums)\n",
    "columns = len(nums[0])\n",
    "\n",
    "# Iterate through each element in 2D matrix\n",
    "for i in range(rows):\n",
    "    for j in range(columns):\n",
    "        print(nums[i][j] , end=\" \")\n",
    "    print()  # for new line after each row"
   ]
  },
  {
   "cell_type": "code",
   "execution_count": 10,
   "id": "a12373b7",
   "metadata": {},
   "outputs": [
    {
     "name": "stdout",
     "output_type": "stream",
     "text": [
      "1 2 3 \n",
      "  5 6 \n",
      "    9 \n"
     ]
    }
   ],
   "source": [
    "# Print Upper Triangle Matrix\n",
    "nums = [[1,2,3],[4,5,6],[7,8,9]]\n",
    "\n",
    "row = len(nums)\n",
    "col = len(nums[0])\n",
    "for i in range(row):\n",
    "    for j in range(col):\n",
    "        if i <= j:\n",
    "            print(nums[i][j], end=\" \")\n",
    "        else:\n",
    "            print(\" \", end=\" \")\n",
    "    print()"
   ]
  },
  {
   "cell_type": "code",
   "execution_count": 11,
   "id": "fefa8c47",
   "metadata": {},
   "outputs": [
    {
     "name": "stdout",
     "output_type": "stream",
     "text": [
      "1     \n",
      "4 5   \n",
      "7 8 9 \n"
     ]
    }
   ],
   "source": [
    "# Print Lower Triangle Matrix\n",
    "nums = [[1,2,3],[4,5,6],[7,8,9]]\n",
    "\n",
    "row = len(nums)\n",
    "col = len(nums[0])\n",
    "for i in range(row):\n",
    "    for j in range(col):\n",
    "        if i >= j:\n",
    "            print(nums[i][j], end=\" \")\n",
    "        else:\n",
    "            print(\" \", end=\" \")\n",
    "    print()"
   ]
  },
  {
   "cell_type": "code",
   "execution_count": 13,
   "id": "72d9ec84",
   "metadata": {},
   "outputs": [
    {
     "name": "stdout",
     "output_type": "stream",
     "text": [
      "1     \n",
      "  5   \n",
      "    9 \n"
     ]
    }
   ],
   "source": [
    "# Print Diagonal Elements of a 2D matrix\n",
    "nums = [[1,2,3],[4,5,6],[7,8,9]]\n",
    "row = len(nums)\n",
    "col = len(nums[0])\n",
    "for i in range(row):\n",
    "    for j in range(col):\n",
    "        if i == j:\n",
    "            print(nums[i][j], end=\" \")\n",
    "        else:\n",
    "            print(\" \", end=\" \")\n",
    "    print()"
   ]
  },
  {
   "cell_type": "code",
   "execution_count": 23,
   "id": "6ec17a87",
   "metadata": {},
   "outputs": [
    {
     "name": "stdout",
     "output_type": "stream",
     "text": [
      "Original Matrix\n",
      "1 2 3 \n",
      "4 5 6 \n",
      "7 8 9 \n",
      "Transpose Matrix\n",
      "1 4 7 \n",
      "2 5 8 \n",
      "3 6 9 \n"
     ]
    }
   ],
   "source": [
    "# Transpose of a Matrix\n",
    "nums = [[1,2,3],[4,5,6],[7,8,9]] # Square matrix\n",
    "#nums = [[5,9,1],[2,3,7]] # Rectangle matrix\n",
    "row = len(nums)\n",
    "col = len(nums[0])\n",
    "transpose = [[0] * row for _ in range(col)]\n",
    "\n",
    "print(\"Original Matrix\")\n",
    "for i in range(row):\n",
    "    for j in range(col):\n",
    "        print(nums[i][j], end=\" \")\n",
    "    print()\n",
    "\n",
    "for i in range(row):\n",
    "    for j in range(col):\n",
    "        transpose[j][i] = nums[i][j]\n",
    "\n",
    "print(\"Transpose Matrix\")\n",
    "for i in range(col):\n",
    "    for j in range(row):\n",
    "        print(transpose[i][j], end=\" \")\n",
    "    print()\n"
   ]
  }
 ],
 "metadata": {
  "kernelspec": {
   "display_name": "base",
   "language": "python",
   "name": "python3"
  },
  "language_info": {
   "codemirror_mode": {
    "name": "ipython",
    "version": 3
   },
   "file_extension": ".py",
   "mimetype": "text/x-python",
   "name": "python",
   "nbconvert_exporter": "python",
   "pygments_lexer": "ipython3",
   "version": "3.12.11"
  }
 },
 "nbformat": 4,
 "nbformat_minor": 5
}
