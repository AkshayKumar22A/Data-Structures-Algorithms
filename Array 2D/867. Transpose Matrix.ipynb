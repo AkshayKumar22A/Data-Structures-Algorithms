{
 "cells": [
  {
   "cell_type": "markdown",
   "id": "61844ca2",
   "metadata": {},
   "source": [
    "<h2><a href=\"https://leetcode.com/problems/transpose-matrix/\">867. Transpose Matrix</a></h2><h3>Easy</h3><hr><p>Given a 2D integer array <code>matrix</code>, return <em>the <strong>transpose</strong> of</em> <code>matrix</code>.</p>\n",
    "\n",
    "<p>The <strong>transpose</strong> of a matrix is the matrix flipped over its main diagonal, switching the matrix&#39;s row and column indices.</p>\n",
    "\n",
    "<p><img alt=\"\" src=\"https://assets.leetcode.com/uploads/2021/02/10/hint_transpose.png\" style=\"width: 600px; height: 197px;\" /></p>\n",
    "\n",
    "<p>&nbsp;</p>\n",
    "<p><strong class=\"example\">Example 1:</strong></p>\n",
    "\n",
    "<pre>\n",
    "<strong>Input:</strong> matrix = [[1,2,3],[4,5,6],[7,8,9]]\n",
    "<strong>Output:</strong> [[1,4,7],[2,5,8],[3,6,9]]\n",
    "</pre>\n",
    "\n",
    "<p><strong class=\"example\">Example 2:</strong></p>\n",
    "\n",
    "<pre>\n",
    "<strong>Input:</strong> matrix = [[1,2,3],[4,5,6]]\n",
    "<strong>Output:</strong> [[1,4],[2,5],[3,6]]\n",
    "</pre>\n",
    "\n",
    "<p>&nbsp;</p>\n",
    "<p><strong>Constraints:</strong></p>\n",
    "\n",
    "<ul>\n",
    "\t<li><code>m == matrix.length</code></li>\n",
    "\t<li><code>n == matrix[i].length</code></li>\n",
    "\t<li><code>1 &lt;= m, n &lt;= 1000</code></li>\n",
    "\t<li><code>1 &lt;= m * n &lt;= 10<sup>5</sup></code></li>\n",
    "\t<li><code>-10<sup>9</sup> &lt;= matrix[i][j] &lt;= 10<sup>9</sup></code></li>\n",
    "</ul>\n"
   ]
  },
  {
   "cell_type": "markdown",
   "id": "efa4c9a7",
   "metadata": {},
   "source": [
    "## Solution 1 — Explicit result matrix (iterative)\n",
    "\n",
    "### Intuition and Approach\n",
    "Transposing converts rows into columns. For a given `m x n` matrix, the transpose is `n x m` where element at `(i, j)` in the original goes to `(j, i)` in the transpose. The straightforward implementation allocates a new `result` matrix of size `n x m` and fills it by mapping `result[j][i] = matrix[i][j]`. This is simple, easy to implement, and has predictable performance.\n",
    "\n",
    "### Code explanation (detailed)\n",
    "- `row = len(matrix)` and `col = len(matrix[0])`: read dimensions `m` and `n`.\n",
    "- `result = [[0 for _ in range(row)] for _ in range(col)]` creates an `n x m` matrix initialized with zeros.\n",
    "- The nested loops `for i in range(row): for j in range(col): result[j][i] = matrix[i][j]` visit each element once and place it in its transposed position.\n",
    "- `return result` returns the transposed matrix.\n",
    "\n",
    "### Dry run (edge-case): non-square matrix 2x3 (also tests positive numbers and zeros)\n",
    "Input: `matrix = [[1,2,3],[4,0,6]]` (2 rows, 3 cols)\n",
    "- row = 2, col = 3; result initialized to 3x2 zeros: `[[0,0],[0,0],[0,0]]`.\n",
    "- i=0: j=0 -> result[0][0]=1; j=1 -> result[1][0]=2; j=2 -> result[2][0]=3. result now `[[1,0],[2,0],[3,0]]`.\n",
    "- i=1: j=0 -> result[0][1]=4; j=1 -> result[1][1]=0; j=2 -> result[2][1]=6. result final `[[1,4],[2,0],[3,6]]`.\n",
    "- Return `[[1,4],[2,0],[3,6]]` which matches expected transpose.\n",
    "\n",
    "### Edge cases to consider\n",
    "- Empty matrix or zero rows/columns (code assumes at least one row and one column). Guard checks recommended before using `matrix[0]`.\n",
    "- Very long rows (m*n <= 1e5 as per constraints) — ensure memory fits when creating `result`.\n",
    "- Negative numbers, zeros, and large absolute values — no special handling needed.\n",
    "\n",
    "### Time and Space complexity (exact)\n",
    "- Time: We iterate all `m*n` elements once -> O(m * n) (best/avg/worst all the same).\n",
    "- Space: We allocate a new `n * m` matrix -> O(m * n) extra space. More precisely: `result` uses exactly `m*n` entries.\n",
    "\n",
    "### When to prefer this solution\n",
    "- Useful when clarity and simplicity are more important than minimizing memory. It's the typical approach when extra space is allowed."
   ]
  },
  {
   "cell_type": "code",
   "execution_count": null,
   "id": "86d17d46",
   "metadata": {},
   "outputs": [
    {
     "name": "stdout",
     "output_type": "stream",
     "text": [
      "1 2 3 \n",
      "4 5 6 \n",
      "7 8 9 \n"
     ]
    }
   ],
   "source": [
    "from typing import List\n",
    "class Solution:\n",
    "    def transpose(self, matrix: List[List[int]]) -> List[List[int]]:\n",
    "        row = len(matrix)\n",
    "        col = len(matrix[0])\n",
    "        result = [[0 for _ in range(row)] for _ in range(col)]\n",
    "\n",
    "        for i in range(row):\n",
    "            for j in range(col):\n",
    "                result[j][i] = matrix[i][j]\n",
    "        return result\n",
    "\n",
    "    def printmatrix(self, matrix: List[List[int]]) -> List[List[int]]:\n",
    "        rows = len(matrix)\n",
    "        cols = len(matrix[0])\n",
    "        \n",
    "        for row in range(rows):\n",
    "            for col in range(cols):\n",
    "                print(matrix[row][col], end=\" \")\n",
    "            print()\n",
    "\n",
    "matrix = [[1,2,3],[4,5,6],[7,8,9]]\n",
    "s = Solution()\n",
    "s.transpose(matrix)\n",
    "s.printmatrix(matrix)"
   ]
  },
  {
   "cell_type": "markdown",
   "id": "31683f62",
   "metadata": {},
   "source": [
    "## Solution 2 — Using `zip(*matrix)` (Pythonic, memory-efficient view)\n",
    "\n",
    "### Intuition and Approach\n",
    "Python's `zip` can transpose a matrix when used with argument unpacking: `zip(*matrix)` groups together elements from each row at the same column index, returning tuples that represent columns. Converting the resulting tuples back to lists produces the transposed matrix.\n",
    "\n",
    "### Code explanation (detailed)\n",
    "- `zip(*matrix)` unpacks rows and zips their columns into tuples: for a matrix with rows `[r0, r1, ...]`, `zip(r0, r1, ...)` yields `(r0[0], r1[0], ...), (r0[1], r1[1], ...), ...`.\n",
    "- `list(zip(*matrix))` creates a list of tuples, each tuple being a column of the original matrix. If you need lists of ints rather than tuples, wrap each tuple with `list()` (e.g., `[list(t) for t in zip(*matrix)]`).\n",
    "- This one-liner is concise and runs in O(m*n) time and O(m*n) output space (since output must contain m*n values). For large inputs make sure the output representation (tuples vs lists) fits the expected return type.\n",
    "\n",
    "### Dry run (edge-case): single row matrix with negative numbers `[[ -1, -2, -3 ]]`\n",
    "- `zip(*matrix)` becomes `zip([-1, -2, -3])` -> produces tuples `(-1,), (-2,), (-3,)`.\n",
    "- `list(zip(*matrix))` -> `[(-1,), (-2,), (-3,)]`. If function requires lists: `[[-1], [-2], [-3]]`. The values and signs are preserved correctly.\n",
    "\n",
    "### Edge cases to consider\n",
    "- Non-rectangular (jagged) matrices: `zip` truncates to the shortest row. For correct behavior, ensure rows are equal length per constraints.\n",
    "- Large matrices: `zip` returns tuples; convert to lists if needed.\n",
    "- Empty matrix: `zip(*[])` yields empty iterator; `list(zip(*[]))` -> `[]` which is appropriate.\n",
    "\n",
    "### Time and Space complexity (exact)\n",
    "- Time: O(m * n) to iterate through all elements during the zip operation and to build the output.\n",
    "- Space: O(m * n) for output (the transposed matrix). The function itself uses O(1) additional temporary space beyond output construction.\n",
    "\n",
    "### When to prefer this solution\n",
    "- Prefer `zip(*matrix)` in Python for concise, idiomatic code. It's efficient and the go-to solution for most problems that allow returned new matrices."
   ]
  },
  {
   "cell_type": "code",
   "execution_count": 6,
   "id": "28e2a332",
   "metadata": {},
   "outputs": [
    {
     "data": {
      "text/plain": [
       "[(1, 4, 7), (2, 5, 8), (3, 6, 9)]"
      ]
     },
     "execution_count": 6,
     "metadata": {},
     "output_type": "execute_result"
    }
   ],
   "source": [
    "from typing import List\n",
    "class Solution:\n",
    "    def transpose(self, matrix: List[List[int]]) -> List[List[int]]:\n",
    "        return list(zip(*matrix))\n",
    "\n",
    "matrix = [[1,2,3],[4,5,6],[7,8,9]]\n",
    "s = Solution()\n",
    "s.transpose(matrix)"
   ]
  }
 ],
 "metadata": {
  "kernelspec": {
   "display_name": "base",
   "language": "python",
   "name": "python3"
  },
  "language_info": {
   "codemirror_mode": {
    "name": "ipython",
    "version": 3
   },
   "file_extension": ".py",
   "mimetype": "text/x-python",
   "name": "python",
   "nbconvert_exporter": "python",
   "pygments_lexer": "ipython3",
   "version": "3.12.11"
  }
 },
 "nbformat": 4,
 "nbformat_minor": 5
}
