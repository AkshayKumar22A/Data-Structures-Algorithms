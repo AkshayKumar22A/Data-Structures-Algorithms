{
 "cells": [
  {
   "cell_type": "markdown",
   "id": "31a870ad",
   "metadata": {},
   "source": [
    "# Lower Bound (Binary Search)\n",
    "\n",
    "Problem Statement:\n",
    "Find the index of the first element in a sorted array `nums` that is ≥ `target`.\n",
    "If the target is present multiple times, lower bound returns the left-most index where `nums[i] == target`.\n",
    "If all elements are smaller than `target`, a convention used here returns `len(nums)-1` or the last updated `lb` depending on implementation; see notes below.\n",
    "\n",
    "Intuition and Approach:\n",
    "- Binary search narrows the search window by half each iteration.\n",
    "- For lower bound we move the `end` pointer left when `nums[mid] >= target` because we may still find an earlier index that satisfies the condition.\n",
    "- Otherwise we move `start` right to skip values less than `target`.\n",
    "\n",
    "Code Explanation (line-by-line):\n",
    "- `start = 0`, `end = len(nums) - 1`: initialize the search bounds.\n",
    "- `lb = end`: initialize lower-bound variable. It's updated when we find a candidate mid. (Some implementations init to `len(nums)` as a sentinel.)\n",
    "- Loop `while start <= end`: standard binary search loop.\n",
    "- `mid = start + (end - start) // 2`: safe midpoint calculation.\n",
    "- If `nums[mid] >= target`: this mid could be the lower bound, so set `lb = mid` and move `end = mid - 1` to continue searching left side.\n",
    "- Else `start = mid + 1` to search right side.\n",
    "- Return `lb`: the index of the first element >= target according to this implementation.\n",
    "\n",
    "Dry Run (complete) with example: `nums = [1,1,1,1,3,5,8,7,7,15,19]`, `target = 1`:\n",
    "Note: the example array is not strictly sorted due to `8,7,7` — binary search requires a sorted array. For a correct dry run we assume sorted input such as `[1,1,1,1,3,5,7,7,8,15,19]`. Using that sorted array: \n",
    "1) start=0, end=10, lb=10 -> mid=5 (value 5). 5 >= 1 so lb=5, end=4.\n",
    "2) start=0, end=4 -> mid=2 (value 1). 1 >= 1 so lb=2, end=1.\n",
    "3) start=0, end=1 -> mid=0 (value 1). 1 >= 1 so lb=0, end=-1.\n",
    "Loop ends. Return lb=0 — the left-most index of 1.\n",
    "\n",
    "Edge Cases / Potential Pitfalls:\n",
    "- Empty array: `len(nums) == 0` -> current code will set `end = -1` and the loop will skip; `lb` is initialized to `end` and returns -1. Consider returning a sentinel like `-1` or `len(nums)` depending on your API.\n",
    "- Target smaller than all elements: returns the first index 0 (if implementation updates correctly) or `end` sentinel in some variants.\n",
    "- Target greater than all elements: typical lower_bound returns `len(nums)` (not found position after last). This implementation initializes `lb = end`, so it may return last index — be careful and choose the convention you want.\n",
    "- Unsorted input: binary search requires sorted input; results are undefined otherwise. The example array in the code has unsorted region and should be sorted first.\n",
    "- Negative numbers / zeros: algorithm works unchanged as long as array is sorted.\n",
    "\n",
    "Time Complexity (exact):\n",
    "- Best case: O(1) comparisons if you consider a target that is found at mid on first try, but the loop still runs at least once; more formally the number of loop iterations is floor(log2(n))+1 in worst case.\n",
    "- Average / Worst case: O(log n) where n = len(nums). Number of iterations is at most ⌈log2(n+1)⌉.\n",
    "Space Complexity: O(1) — only a few pointers and variables.\n",
    "\n",
    "Exact operation counts (rough): each loop does one comparison `nums[mid] >= target` and updates two pointers; iterations ≈ ⌈log2(n)⌉."
   ]
  },
  {
   "cell_type": "code",
   "execution_count": 29,
   "id": "b57ecdfd",
   "metadata": {},
   "outputs": [
    {
     "name": "stdout",
     "output_type": "stream",
     "text": [
      "The lower bound is the index: 0\n"
     ]
    }
   ],
   "source": [
    "class Search:\n",
    "    def LowerBond(self,nums,target):\n",
    "        start = 0\n",
    "        end = len(nums) - 1\n",
    "        lb = end\n",
    "        while start <= end:\n",
    "            mid = start + (end - start) // 2\n",
    "            if nums[mid] >= target:\n",
    "                lb = mid\n",
    "                end = mid - 1\n",
    "            else:\n",
    "                start = mid + 1\n",
    "        return lb \n",
    "\n",
    "nums = [1, 1, 1, 1, 3, 5, 7, 7, 8, 15, 19]\n",
    "target= 1\n",
    "s = Search()\n",
    "indx = s.LowerBond(nums,target)\n",
    "print(\"The lower bound is the index:\", indx)"
   ]
  },
  {
   "cell_type": "markdown",
   "id": "117287b3",
   "metadata": {},
   "source": [
    "# Upper Bound (Binary Search)\n",
    "\n",
    "Problem Statement:\n",
    "Find the index of the first element in a sorted array `nums` that is `> target`.\n",
    "If the target is present multiple times, upper bound returns the index just after the right-most `target` (the first element strictly greater than `target`).\n",
    "\n",
    "Intuition and Approach:\n",
    "- Similar to lower bound but we move left when `nums[mid] > target` because we found a candidate that is strictly greater and we might find an earlier strictly greater element.\n",
    "- Otherwise (`nums[mid] <= target`) we move `start` right because mid cannot be the first element > target.\n",
    "\n",
    "Code Explanation (line-by-line):\n",
    "- `start = 0`, `end = len(nums)-1`: search boundaries.\n",
    "- `ub = start`: initial upper-bound candidate (some implementations use `len(nums)` as sentinel).\n",
    "- While loop and `mid` calculation: same as before.\n",
    "- If `nums[mid] > target`: save `ub = mid` and continue searching left (`end = mid - 1`) to find earlier strictly-greater value.\n",
    "- Else (`nums[mid] <= target`): move `start = mid + 1`.\n",
    "- Return `ub`.\n",
    "\n",
    "Dry Run (complete) with sorted example: `nums = [1,1,1,1,3,5,7,7,8,15,19]`, `target = 1`:\n",
    "1) start=0,end=10,ub=0 -> mid=5 (value 5). 5 > 1 so ub=5, end=4.\n",
    "2) start=0,end=4 -> mid=2 (value 1). 1 <= 1 so start=3.\n",
    "3) start=3,end=4 -> mid=3 (value 1). 1 <= 1 so start=4.\n",
    "4) start=4,end=4 -> mid=4 (value 3). 3 > 1 so ub=4, end=3.\n",
    "Loop ends. Return ub=4 — index of first element > 1 (value 3).\n",
    "\n",
    "Edge Cases / Potential Pitfalls:\n",
    "- Empty array: `ub` initialized to `start` (0) and loop skipped; the function returns 0. If your API expects `len(nums)` for not-found, adapt accordingly.\n",
    "- Target greater or equal to all elements: upper_bound should return `len(nums)` in the common convention. This implementation may return `start` or another sentinel; verify with tests.\n",
    "- Target smaller than all elements: returns index 0 correctly (first element > target).\n",
    "- Unsorted input breaks correctness. Negative numbers and zeros are handled as long as the array is sorted.\n",
    "\n",
    "Time Complexity (exact):\n",
    "- Best case: O(1) single-iteration success (but formally still logarithmic bound).\n",
    "- Average / Worst case: O(log n) iterations, at most ⌈log2(n+1)⌉.\n",
    "Space Complexity: O(1).\n",
    "\n",
    "Difference between Lower Bound and Upper Bound:\n",
    "- Lower bound finds the first index with `nums[i] >= target`.\n",
    "- Upper bound finds the first index with `nums[i] > target`.\n",
    "- For a target that exists in the array: if `L` is lower_bound and `U` is upper_bound then all indices `i` with `L <= i < U` are equal to the target. The count of occurrences = `U - L`.\n",
    "\n",
    "Where this is used in DSA / Practical Uses:\n",
    "- Counting occurrences of a value in a sorted array: `count = upper_bound - lower_bound`.\n",
    "- In binary-search-based algorithms to find boundaries, thresholds, smallest/largest feasible value, or first true in a boolean predicate over a monotonic search space.\n",
    "- In problems like insertion position, finding first element >= / > a value, scheduling, and parametric search.\n",
    "- Standard library functions in C++ (`lower_bound`, `upper_bound`) and Python `bisect_left`/`bisect_right` implement these concepts.\n",
    "\n",
    "Quick Recommendation / Fixes for this notebook code:\n",
    "- Ensure the input array is sorted before calling these functions.\n",
    "- Use consistent sentinels: initialize `lb`/`ub` to `len(nums)` when you want to return an index that may point to `end()`-style sentinel.\n",
    "- Alternatively return `start` after the loop: many implementations return `start` as the correct lower/upper bound index (this avoids sentinel initialization confusion)."
   ]
  },
  {
   "cell_type": "code",
   "execution_count": 30,
   "id": "a0226aea",
   "metadata": {},
   "outputs": [
    {
     "name": "stdout",
     "output_type": "stream",
     "text": [
      "The lower bound is the index: 4\n"
     ]
    }
   ],
   "source": [
    "class Search:\n",
    "    def UpperBound(self,nums,target):\n",
    "        start = 0\n",
    "        end = len(nums) - 1\n",
    "        ub = start\n",
    "        while start<= end:\n",
    "            mid = start + (end-start) //2\n",
    "            if nums[mid] > target:\n",
    "                ub = mid\n",
    "                end = mid - 1\n",
    "            else:\n",
    "                start = mid + 1\n",
    "        return ub\n",
    "\n",
    "nums = [1, 1, 1, 1, 3, 5, 7, 7, 8, 15, 19]\n",
    "target= 1\n",
    "s = Search()\n",
    "indx = s.UpperBound(nums,target)\n",
    "print(\"The lower bound is the index:\", indx)"
   ]
  }
 ],
 "metadata": {
  "kernelspec": {
   "display_name": "base",
   "language": "python",
   "name": "python3"
  },
  "language_info": {
   "codemirror_mode": {
    "name": "ipython",
    "version": 3
   },
   "file_extension": ".py",
   "mimetype": "text/x-python",
   "name": "python",
   "nbconvert_exporter": "python",
   "pygments_lexer": "ipython3",
   "version": "3.12.2"
  }
 },
 "nbformat": 4,
 "nbformat_minor": 5
}
