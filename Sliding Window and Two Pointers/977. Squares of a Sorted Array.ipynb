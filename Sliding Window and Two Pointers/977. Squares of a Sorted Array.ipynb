{
 "cells": [
  {
   "cell_type": "markdown",
   "id": "6a743b3d",
   "metadata": {},
   "source": [
    "<h2><a href=\"https://leetcode.com/problems/squares-of-a-sorted-array\">977. Squares of a Sorted Array</a></h2><h3>Easy</h3><hr><p>Given an integer array <code>nums</code> sorted in <strong>non-decreasing</strong> order, return <em>an array of <strong>the squares of each number</strong> sorted in non-decreasing order</em>.</p>\n",
    "\n",
    "<p>&nbsp;</p>\n",
    "<p><strong class=\"example\">Example 1:</strong></p>\n",
    "\n",
    "<pre>\n",
    "<strong>Input:</strong> nums = [-4,-1,0,3,10]\n",
    "<strong>Output:</strong> [0,1,9,16,100]\n",
    "<strong>Explanation:</strong> After squaring, the array becomes [16,1,0,9,100].\n",
    "After sorting, it becomes [0,1,9,16,100].\n",
    "</pre>\n",
    "\n",
    "<p><strong class=\"example\">Example 2:</strong></p>\n",
    "\n",
    "<pre>\n",
    "<strong>Input:</strong> nums = [-7,-3,2,3,11]\n",
    "<strong>Output:</strong> [4,9,9,49,121]\n",
    "</pre>\n",
    "\n",
    "<p>&nbsp;</p>\n",
    "<p><strong>Constraints:</strong></p>\n",
    "\n",
    "<ul>\n",
    "\t<li><code><span>1 &lt;= nums.length &lt;= </span>10<sup>4</sup></code></li>\n",
    "\t<li><code>-10<sup>4</sup> &lt;= nums[i] &lt;= 10<sup>4</sup></code></li>\n",
    "\t<li><code>nums</code> is sorted in <strong>non-decreasing</strong> order.</li>\n",
    "</ul>\n",
    "\n",
    "<p>&nbsp;</p>\n",
    "<strong>Follow up:</strong> Squaring each element and sorting the new array is very trivial, could you find an <code>O(n)</code> solution using a different approach?"
   ]
  },
  {
   "cell_type": "markdown",
   "id": "923f2145",
   "metadata": {},
   "source": [
    "## Approach 1: Brute Force (Sort After Squaring)\n",
    "\n",
    "### Intuition and Approach\n",
    "- The array is sorted, but squaring negative numbers can disrupt the order.\n",
    "- The simplest way is to square each element and then sort the resulting array.\n",
    "\n",
    "### Code Explanation in Details\n",
    "- Iterate through the array and replace each element with its square.\n",
    "- Use the built-in sort function to sort the squared values in non-decreasing order.\n",
    "- Return the sorted array.\n",
    "\n",
    "### Dry Run\n",
    "Input: `[-4, -1, 0, 3, 10]`\n",
    "- After squaring: `[16, 1, 0, 9, 100]`\n",
    "- After sorting: `[0, 1, 9, 16, 100]`\n",
    "\n",
    "Input: `[-7, -3, 2, 3, 11]`\n",
    "- After squaring: `[49, 9, 4, 9, 121]`\n",
    "- After sorting: `[4, 9, 9, 49, 121]`\n",
    "\n",
    "### Edge Cases\n",
    "- **Empty Array:** Returns empty array.\n",
    "- **Single Element:** Returns the square of the element.\n",
    "- **All Negative Numbers:** Squaring makes all values positive, sort arranges them in increasing order.\n",
    "- **All Positive Numbers:** Squaring preserves order, sort does not change it.\n",
    "- **Zero in Array:** Squaring zero remains zero, sort places it at the start if other values are positive.\n",
    "- **Mixed Negative and Positive:** Squaring can change the relative order, sort arranges them correctly.\n",
    "\n",
    "### Time and Space Complexity\n",
    "- **Time Complexity:** O(n log n) (due to sorting)\n",
    "- **Space Complexity:** O(1) (if sorting is in-place)\n",
    "\n"
   ]
  },
  {
   "cell_type": "code",
   "execution_count": 10,
   "id": "dde36604",
   "metadata": {},
   "outputs": [
    {
     "data": {
      "text/plain": [
       "[0, 1, 9, 16, 100]"
      ]
     },
     "execution_count": 10,
     "metadata": {},
     "output_type": "execute_result"
    }
   ],
   "source": [
    "class Solution:\n",
    "    def sortedSquares(self, nums: List[int]) -> List[int]:\n",
    "        l = len(nums)\n",
    "        for i in range(0,l):\n",
    "            nums[i] = nums[i] * nums[i]\n",
    "        nums.sort()\n",
    "        return nums\n",
    "\n",
    "nums = [-4,-1,0,3,10]\n",
    "s = Solution()\n",
    "s.sortedSquares(nums)"
   ]
  },
  {
   "cell_type": "markdown",
   "id": "37d5521e",
   "metadata": {},
   "source": [
    "## Approach 2: Two Pointer Technique (O(n) Solution)\n",
    "\n",
    "### Intuition and Approach\n",
    "- The largest square may come from either end of the array (negative or positive).\n",
    "- Use two pointers (`start` and `end`) to compare absolute values from both ends.\n",
    "- Place the larger square at the end of the result array and move the corresponding pointer.\n",
    "- Repeat until all elements are processed.\n",
    "\n",
    "### Code Explanation in Details\n",
    "- Initialize a result array of the same length as `nums`.\n",
    "- Set two pointers: `start` at the beginning, `end` at the end.\n",
    "- Iterate from the end of the result array backwards:\n",
    "    - Compare `abs(nums[start])` and `abs(nums[end])`.\n",
    "    - Place the larger square at the current position in the result array.\n",
    "    - Move the pointer (`start` or `end`) accordingly.\n",
    "- Return the result array.\n",
    "\n",
    "### Dry Run\n",
    "Input: `[-4, -1, 0, 3, 10]`\n",
    "- Step 1: Compare abs(-4) and abs(10) → 10 is larger, place 100 at end\n",
    "- Step 2: Compare abs(-4) and abs(3) → 4 is larger, place 16\n",
    "- Continue until all elements are placed\n",
    "- Final result: `[0, 1, 9, 16, 100]`\n",
    "\n",
    "### Edge Cases\n",
    "- Handles all cases efficiently, including empty, single element, all negative, all positive, zero, and mixed arrays.\n",
    "\n",
    "### Time and Space Complexity\n",
    "- **Time Complexity:** O(n)\n",
    "- **Space Complexity:** O(n) (for the result array)\n",
    "\n",
    "---\n",
    "\n"
   ]
  },
  {
   "cell_type": "code",
   "execution_count": 8,
   "id": "598d00d8",
   "metadata": {},
   "outputs": [
    {
     "data": {
      "text/plain": [
       "[0, 1, 9, 16, 100]"
      ]
     },
     "execution_count": 8,
     "metadata": {},
     "output_type": "execute_result"
    }
   ],
   "source": [
    "class Solution:\n",
    "    def sortedSquares(self, nums: List[int]) -> List[int]:\n",
    "        n = len(nums)\n",
    "        ans = [0] * n\n",
    "        start, end = 0, n - 1\n",
    "        for i in range(n - 1, -1, -1):\n",
    "            if abs(nums[start]) >= abs(nums[end]):\n",
    "                ans[i] = nums[start] * nums[start]\n",
    "                start += 1\n",
    "            else:\n",
    "                ans[i] = nums[end] * nums[end]\n",
    "                end -= 1\n",
    "        return ans\n",
    "    \n",
    "nums = [-4,-1,0,3,10]\n",
    "s = Solution()\n",
    "s.sortedSquares(nums)"
   ]
  },
  {
   "cell_type": "markdown",
   "id": "07a66d31",
   "metadata": {},
   "source": [
    "\n",
    "## Approach 3: Two Pointer with Reverse\n",
    "\n",
    "### Intuition and Approach\n",
    "- Similar to Approach 2, but instead of filling the result array from the end, append squares to a list and reverse it at the end.\n",
    "- This is useful if you want to avoid index calculations.\n",
    "\n",
    "### Code Explanation in Details\n",
    "- Initialize an empty result list.\n",
    "- Set two pointers: `start` at the beginning, `end` at the end.\n",
    "- While `start <= end`:\n",
    "    - Compare `abs(nums[start])` and `abs(nums[end])`.\n",
    "    - Append the larger square to the result list.\n",
    "    - Move the pointer (`start` or `end`) accordingly.\n",
    "- Reverse the result list before returning.\n",
    "\n",
    "### Dry Run\n",
    "Input: `[-4, -1, 0, 3, 10]`\n",
    "- Step 1: Compare abs(-4) and abs(10) → 10 is larger, append 100\n",
    "- Step 2: Compare abs(-4) and abs(3) → 4 is larger, append 16\n",
    "- Continue until all elements are appended\n",
    "- Reverse the list: `[0, 1, 9, 16, 100]`\n",
    "\n",
    "### Edge Cases\n",
    "- Handles all cases efficiently, including empty, single element, all negative, all positive, zero, and mixed arrays.\n",
    "\n",
    "### Time and Space Complexity\n",
    "- **Time Complexity:** O(n)\n",
    "- **Space Complexity:** O(n) (for the result list)\n",
    "\n",
    "---\n",
    "\n"
   ]
  },
  {
   "cell_type": "code",
   "execution_count": 12,
   "id": "64fbd47c",
   "metadata": {},
   "outputs": [
    {
     "data": {
      "text/plain": [
       "[0, 1, 9, 16, 100]"
      ]
     },
     "execution_count": 12,
     "metadata": {},
     "output_type": "execute_result"
    }
   ],
   "source": [
    "class Solution:\n",
    "    def sortedSquares(self, nums: List[int]) -> List[int]:\n",
    "        n = len(nums)\n",
    "        ans = []\n",
    "        start, end = 0, n - 1\n",
    "        while(start <= end):\n",
    "            if abs(nums[start]) >= abs(nums[end]):\n",
    "                ans.append(nums[start] * nums[start])\n",
    "                start += 1\n",
    "            else:\n",
    "                ans.append(nums[end] * nums[end])\n",
    "                end -= 1\n",
    "        return ans[::-1]\n",
    "    \n",
    "nums = [-4,-1,0,3,10]\n",
    "s = Solution()\n",
    "s.sortedSquares(nums)"
   ]
  },
  {
   "cell_type": "markdown",
   "id": "7ddc5642",
   "metadata": {},
   "source": [
    "## Summary Table\n",
    "| Approach | Time Complexity | Space Complexity | In-place |\n",
    "|----------|----------------|-----------------|----------|\n",
    "| Brute Force (Sort) | O(n log n) | O(1) | Yes |\n",
    "| Two Pointer | O(n) | O(n) | No |\n",
    "| Two Pointer + Reverse | O(n) | O(n) | No |"
   ]
  }
 ],
 "metadata": {
  "kernelspec": {
   "display_name": "base",
   "language": "python",
   "name": "python3"
  },
  "language_info": {
   "codemirror_mode": {
    "name": "ipython",
    "version": 3
   },
   "file_extension": ".py",
   "mimetype": "text/x-python",
   "name": "python",
   "nbconvert_exporter": "python",
   "pygments_lexer": "ipython3",
   "version": "3.12.11"
  }
 },
 "nbformat": 4,
 "nbformat_minor": 5
}
