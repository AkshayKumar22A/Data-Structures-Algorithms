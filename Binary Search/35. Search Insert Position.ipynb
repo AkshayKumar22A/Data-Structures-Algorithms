{
 "cells": [
  {
   "cell_type": "markdown",
   "id": "070d99d8",
   "metadata": {},
   "source": [
    "<h2><a href=\"https://leetcode.com/problems/search-insert-position/\">35. Search Insert Position</a></h2><h3>Easy</h3><hr><p>Given a sorted array of distinct integers and a target value, return the index if the target is found. If not, return the index where it would be if it were inserted in order.</p>\n",
    "\n",
    "<p>You must&nbsp;write an algorithm with&nbsp;<code>O(log n)</code> runtime complexity.</p>\n",
    "\n",
    "<p>&nbsp;</p>\n",
    "<p><strong class=\"example\">Example 1:</strong></p>\n",
    "\n",
    "<pre>\n",
    "<strong>Input:</strong> nums = [1,3,5,6], target = 5\n",
    "<strong>Output:</strong> 2\n",
    "</pre>\n",
    "\n",
    "<p><strong class=\"example\">Example 2:</strong></p>\n",
    "\n",
    "<pre>\n",
    "<strong>Input:</strong> nums = [1,3,5,6], target = 2\n",
    "<strong>Output:</strong> 1\n",
    "</pre>\n",
    "\n",
    "<p><strong class=\"example\">Example 3:</strong></p>\n",
    "\n",
    "<pre>\n",
    "<strong>Input:</strong> nums = [1,3,5,6], target = 7\n",
    "<strong>Output:</strong> 4\n",
    "</pre>\n",
    "\n",
    "<p>&nbsp;</p>\n",
    "<p><strong>Constraints:</strong></p>\n",
    "\n",
    "<ul>\n",
    "\t<li><code>1 &lt;= nums.length &lt;= 10<sup>4</sup></code></li>\n",
    "\t<li><code>-10<sup>4</sup> &lt;= nums[i] &lt;= 10<sup>4</sup></code></li>\n",
    "\t<li><code>nums</code> contains <strong>distinct</strong> values sorted in <strong>ascending</strong> order.</li>\n",
    "\t<li><code>-10<sup>4</sup> &lt;= target &lt;= 10<sup>4</sup></code></li>\n",
    "</ul>\n"
   ]
  },
  {
   "cell_type": "markdown",
   "id": "44fefb26",
   "metadata": {},
   "source": [
    "## Explanation (Intuition, Approach, Dry Run, Edge Cases, Complexity)\n",
    "\n",
    "Intuition and Approach:\n",
    "- The array `nums` is sorted and contains distinct integers. We can use binary search to achieve O(log n) time.\n",
    "- We maintain a search window using `start` and `end`. Each iteration we check `mid` = floor((start+end)/2).\n",
    "- If `nums[mid] == target`, we found the index and return it. If `nums[mid] < target`, the target must be to the right, so set `start = mid + 1`. If `nums[mid] > target`, search left with `end = mid - 1`.\n",
    "- If the loop ends without finding the target, `start` will be the correct insertion index (the smallest index where `target` can be placed to keep the array sorted).\n",
    "\n",
    "Code Explanation (detailed):\n",
    "- `start = 0`, `end = len(nums) - 1`: initialize the inclusive search bounds.\n",
    "- `while start <= end:`: keep searching while the window is valid.\n",
    "- `mid = (start + end) // 2`: integer midpoint. Using integer division ensures mid is an integer index.\n",
    "- `if nums[mid] == target: return mid`: exact match found — return immediately.\n",
    "- `elif nums[mid] < target: start = mid + 1`: discard left half including mid, since all values ≤ nums[mid] < target.\n",
    "- `else: end = mid - 1`: discard right half including mid, since nums[mid] > target.\n",
    "- `return start`: after loop, `start` is the smallest index such that all elements before it are < target; that is the insertion position.\n",
    "\n",
    "Dry Run (complete) — normal example: nums = [1,3,5,6], target = 5\n",
    "1) start=0, end=3 -> mid=(0+3)//2 = 1, nums[1]=3. 3 < 5 -> start = mid+1 = 2.\n",
    "2) start=2, end=3 -> mid=(2+3)//2 = 2, nums[2]=5. nums[2]==target -> return 2.\n",
    "Result: 2 (matches expected).\n",
    "\n",
    "Dry Run (edge case) — target greater than all elements: nums = [1,3,5,6], target = 7\n",
    "1) start=0, end=3 -> mid=1, nums[1]=3 < 7 -> start=2.\n",
    "2) start=2, end=3 -> mid=2, nums[2]=5 < 7 -> start=3.\n",
    "3) start=3, end=3 -> mid=3, nums[3]=6 < 7 -> start=4.\n",
    "Loop ends (start=4, end=3). Return start=4 — insertion index at the end.\n",
    "This edge dry run demonstrates correctness for insertion at the array end.\n",
    "\n",
    "Other Edge Cases / Potential Pitfalls:\n",
    "- Empty array (`nums = []`): start=0, end=-1, loop skipped and function returns start=0 — correct insertion index.\n",
    "- Target smaller than all elements (`nums = [2,3,4]`, target = 1): loop ends with start=0 -> return 0 (insert at beginning).\n",
    "- Negative numbers and zeros: handled same as positive numbers as long as array is sorted.\n",
    "- Duplicate values: problem statement says distinct values; if duplicates were allowed, this implementation returns the leftmost insertion position (same as bisect_left).\n",
    "- Very large arrays: algorithm is logarithmic, so it scales well.\n",
    "\n",
    "Time Complexity (exact):\n",
    "- Best case: O(1) — target found at the first mid check (one iteration).\n",
    "- Average case: O(log n) — binary search halves the search window each iteration.\n",
    "- Worst case: O(log n) — when target is not present or at extreme positions; number of iterations ≈ ⌊log2(n)⌋ + 1.\n",
    "- Exact iteration bound: at most ⌈log2(n+1)⌉ iterations of the loop (each iteration does O(1) work).\n",
    "\n",
    "Space Complexity (exact):\n",
    "- O(1) extra space — only a handful of integer variables (`start`, `end`, `mid`). No recursion or extra arrays are used.\n"
   ]
  },
  {
   "cell_type": "code",
   "execution_count": 2,
   "id": "1472b77e",
   "metadata": {},
   "outputs": [
    {
     "data": {
      "text/plain": [
       "4"
      ]
     },
     "execution_count": 2,
     "metadata": {},
     "output_type": "execute_result"
    }
   ],
   "source": [
    "from typing import List\n",
    "class Solution:\n",
    "    def searchInsert(self, nums: List[int], target: int) -> int:\n",
    "        start = 0\n",
    "        end = len(nums)-1\n",
    "        while start<=end:\n",
    "            mid = (start+end) // 2\n",
    "            if nums[mid] == target:\n",
    "                return mid\n",
    "            elif nums[mid] < target:\n",
    "                start = mid + 1\n",
    "            else:\n",
    "                end = mid - 1\n",
    "        return start\n",
    "\n",
    "nums = [1,3,5,6]\n",
    "target = 7\n",
    "s = Solution()\n",
    "s.searchInsert(nums,target)\n"
   ]
  }
 ],
 "metadata": {
  "kernelspec": {
   "display_name": "base",
   "language": "python",
   "name": "python3"
  },
  "language_info": {
   "codemirror_mode": {
    "name": "ipython",
    "version": 3
   },
   "file_extension": ".py",
   "mimetype": "text/x-python",
   "name": "python",
   "nbconvert_exporter": "python",
   "pygments_lexer": "ipython3",
   "version": "3.12.11"
  }
 },
 "nbformat": 4,
 "nbformat_minor": 5
}
