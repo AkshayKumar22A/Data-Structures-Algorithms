{
 "cells": [
  {
   "cell_type": "markdown",
   "id": "7ffd2be5",
   "metadata": {},
   "source": [
    "<h2><a href=\"https://leetcode.com/problems/peak-index-in-a-mountain-array\">852. Peak Index in a Mountain Array</a></h2><h3>Medium</h3><hr><p>You are given an integer <strong>mountain</strong> array <code>arr</code> of length <code>n</code> where the values increase to a <strong>peak element</strong> and then decrease.</p>\n",
    "\n",
    "<p>Return the index of the peak element.</p>\n",
    "\n",
    "<p>Your task is to solve it in <code>O(log(n))</code> time complexity.</p>\n",
    "\n",
    "<p>&nbsp;</p>\n",
    "<p><strong class=\"example\">Example 1:</strong></p>\n",
    "\n",
    "<div class=\"example-block\">\n",
    "<p><strong>Input:</strong> <span class=\"example-io\">arr = [0,1,0]</span></p>\n",
    "\n",
    "<p><strong>Output:</strong> <span class=\"example-io\">1</span></p>\n",
    "</div>\n",
    "\n",
    "<p><strong class=\"example\">Example 2:</strong></p>\n",
    "\n",
    "<div class=\"example-block\">\n",
    "<p><strong>Input:</strong> <span class=\"example-io\">arr = [0,2,1,0]</span></p>\n",
    "\n",
    "<p><strong>Output:</strong> <span class=\"example-io\">1</span></p>\n",
    "</div>\n",
    "\n",
    "<p><strong class=\"example\">Example 3:</strong></p>\n",
    "\n",
    "<div class=\"example-block\">\n",
    "<p><strong>Input:</strong> <span class=\"example-io\">arr = [0,10,5,2]</span></p>\n",
    "\n",
    "<p><strong>Output:</strong> <span class=\"example-io\">1</span></p>\n",
    "</div>\n",
    "\n",
    "<p>&nbsp;</p>\n",
    "<p><strong>Constraints:</strong></p>\n",
    "\n",
    "<ul>\n",
    "\t<li><code>3 &lt;= arr.length &lt;= 10<sup>5</sup></code></li>\n",
    "\t<li><code>0 &lt;= arr[i] &lt;= 10<sup>6</sup></code></li>\n",
    "\t<li><code>arr</code> is <strong>guaranteed</strong> to be a mountain array.</li>\n",
    "</ul>\n"
   ]
  },
  {
   "cell_type": "markdown",
   "id": "7e9cac96",
   "metadata": {},
   "source": [
    "## Approach 1: Binary Search\n",
    "\n",
    "### Problem Statement\n",
    "Given a mountain array (strictly increasing then strictly decreasing), return the index of the peak element. Solve in $O(\\log n)$ time.\n",
    "\n",
    "### Intuition and Approach\n",
    "Use binary search to find the peak efficiently. At each step, check if the middle element is part of the increasing or decreasing slope and move the search window accordingly.\n",
    "\n",
    "### Code Explanation in Details\n",
    "- Initialize `left` and `right` pointers.\n",
    "- While `left < right`, calculate `mid`.\n",
    "- If `arr[mid-1] < arr[mid]`, move `left` to `mid+1` (search right side), update `peak`.\n",
    "- Else, move `right` to `mid` (search left side).\n",
    "- Return `peak` index.\n",
    "\n",
    "### Dry Run\n",
    "Input: `[18,29,38,59,98,100,99,98,90]`\n",
    "- mid = 4, arr[3]=59 < arr[4]=98 → left=5, peak=4\n",
    "- mid = 7, arr[6]=99 < arr[7]=98 → right=7\n",
    "- Continue until left < right is false.\n",
    "- Returns peak index.\n",
    "\n",
    "### Edge Cases\n",
    "- **Array with only 3 elements:** Still works.\n",
    "- **Negative numbers:** Works; peak can be negative.\n",
    "- **All elements same:** Not a valid mountain array.\n",
    "- **Zeros:** Works if mountain property holds.\n",
    "\n",
    "### Time and Space Complexity\n",
    "- **Time Complexity:** $O(\\log n)$\n",
    "- **Space Complexity:** $O(1)$"
   ]
  },
  {
   "cell_type": "code",
   "execution_count": 4,
   "id": "33ed736b",
   "metadata": {},
   "outputs": [
    {
     "data": {
      "text/plain": [
       "5"
      ]
     },
     "execution_count": 4,
     "metadata": {},
     "output_type": "execute_result"
    }
   ],
   "source": [
    "from typing import List\n",
    "class Solution:\n",
    "    def peakIndexInMountainArray(self, arr: List[int]) -> int:\n",
    "        left = 0\n",
    "        right = len(arr) - 1\n",
    "        peak = -1\n",
    "        while left < right:\n",
    "            mid = left + (right - left) // 2\n",
    "            if arr[mid - 1] < arr[mid]:\n",
    "                left = mid + 1\n",
    "                peak = mid\n",
    "            else:\n",
    "                right = mid\n",
    "        return peak\n",
    "\n",
    "nums = [18,29,38,59,98,100,99,98,90]\n",
    "s = Solution()\n",
    "s.peakIndexInMountainArray(nums)"
   ]
  },
  {
   "cell_type": "markdown",
   "id": "4abb82e7",
   "metadata": {},
   "source": [
    "## Approach 2: Linear Scan\n",
    "\n",
    "### Problem Statement\n",
    "Same as above.\n",
    "\n",
    "### Intuition and Approach\n",
    "Scan the array to find the maximum value and its index. This is a brute-force approach.\n",
    "\n",
    "### Code Explanation in Details\n",
    "- Initialize `peak` and `peakpos`.\n",
    "- Loop through the array, update `peak` and `peakpos` whenever a larger value is found.\n",
    "- Return `peakpos`.\n",
    "\n",
    "### Dry Run\n",
    "Input: `[18,29,38,59,98,100,99,98,90]`\n",
    "- Loop through, peak updated to 100 at index 5.\n",
    "- Returns index 5.\n",
    "\n",
    "### Edge Cases\n",
    "- **Array with only 3 elements:** Works.\n",
    "- **Negative numbers:** Works.\n",
    "- **All elements same:** Not a valid mountain array.\n",
    "- **Zeros:** Works if mountain property holds.\n",
    "\n",
    "### Time and Space Complexity\n",
    "- **Time Complexity:** $O(n)$\n",
    "- **Space Complexity:** $O(1)$\n"
   ]
  },
  {
   "cell_type": "code",
   "execution_count": 5,
   "id": "0f94af61",
   "metadata": {},
   "outputs": [
    {
     "data": {
      "text/plain": [
       "5"
      ]
     },
     "execution_count": 5,
     "metadata": {},
     "output_type": "execute_result"
    }
   ],
   "source": [
    "from typing import List\n",
    "class Solution:\n",
    "    def peakIndexInMountainArray(self, arr: List[int]) -> int:\n",
    "        l = len(arr) - 1\n",
    "        peak = 0\n",
    "        peakpos = 0\n",
    "        for i in range(l):\n",
    "            if arr[i] > peak:\n",
    "                peak = max(arr[i],peak)\n",
    "                peakpos = i\n",
    "        return peakpos\n",
    "\n",
    "nums = [18,29,38,59,98,100,99,98,90]\n",
    "s = Solution()\n",
    "s.peakIndexInMountainArray(nums)"
   ]
  }
 ],
 "metadata": {
  "kernelspec": {
   "display_name": "base",
   "language": "python",
   "name": "python3"
  },
  "language_info": {
   "codemirror_mode": {
    "name": "ipython",
    "version": 3
   },
   "file_extension": ".py",
   "mimetype": "text/x-python",
   "name": "python",
   "nbconvert_exporter": "python",
   "pygments_lexer": "ipython3",
   "version": "3.12.11"
  }
 },
 "nbformat": 4,
 "nbformat_minor": 5
}
