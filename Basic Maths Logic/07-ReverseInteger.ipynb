{
 "cells": [
  {
   "cell_type": "markdown",
   "id": "8663c10c",
   "metadata": {},
   "source": []
  },
  {
   "cell_type": "code",
   "execution_count": null,
   "id": "8c4ff22d",
   "metadata": {},
   "outputs": [
    {
     "name": "stdout",
     "output_type": "stream",
     "text": [
      "54321\n"
     ]
    }
   ],
   "source": [
    "n = 12345\n",
    "is_negative = False\n",
    "if n < 0:\n",
    "    is_negative = True\n",
    "num = abs(n)\n",
    "ans = 0\n",
    "while num > 0:\n",
    "    last_digit = num % 10\n",
    "    ans = (ans * 10) + last_digit\n",
    "    num = num // 10\n",
    "\n",
    "if ans < -2**31 or ans > 2**31 - 1:\n",
    "    print(0)\n",
    "\n",
    "if is_negative:\n",
    "    ans = -ans\n",
    "\n",
    "print(ans)"
   ]
  }
 ],
 "metadata": {
  "kernelspec": {
   "display_name": "base",
   "language": "python",
   "name": "python3"
  },
  "language_info": {
   "codemirror_mode": {
    "name": "ipython",
    "version": 3
   },
   "file_extension": ".py",
   "mimetype": "text/x-python",
   "name": "python",
   "nbconvert_exporter": "python",
   "pygments_lexer": "ipython3",
   "version": "3.12.11"
  }
 },
 "nbformat": 4,
 "nbformat_minor": 5
}
