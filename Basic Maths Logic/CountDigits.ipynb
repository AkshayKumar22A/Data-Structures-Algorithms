{
 "cells": [
  {
   "cell_type": "markdown",
   "id": "3aa08a67",
   "metadata": {},
   "source": [
    "## Count Number of Digits in a Number\n",
    "This code counts the total number of digits in a given integer using mathematical operations.\n",
    "\n",
    "### Approach\n",
    "- Start with the number `n`.\n",
    "- Use a loop to repeatedly divide the number by 10 (integer division) until it becomes 0.\n",
    "- For each iteration, increment a counter to keep track of the number of digits.\n",
    "\n",
    "### Example Dry Run (n = 56789)\n",
    "Let n = 56789.\n",
    "\n",
    "Step 1: num = 56789, Count = 0\n",
    "- num > 0: Count = 1, num = 56789 // 10 = 5678\n",
    "Step 2: num = 5678, Count = 1\n",
    "- num > 0: Count = 2, num = 5678 // 10 = 567\n",
    "Step 3: num = 567, Count = 2\n",
    "- num > 0: Count = 3, num = 567 // 10 = 56\n",
    "Step 4: num = 56, Count = 3\n",
    "- num > 0: Count = 4, num = 56 // 10 = 5\n",
    "Step 5: num = 5, Count = 4\n",
    "- num > 0: Count = 5, num = 5 // 10 = 0\n",
    "Loop ends as num is now 0.\n",
    "\n",
    "Final Output: Total digits in 56789 is 5"
   ]
  },
  {
   "cell_type": "code",
   "execution_count": null,
   "id": "00d124fd",
   "metadata": {},
   "outputs": [],
   "source": [
    "n = 56789\n",
    "num = n\n",
    "Count = 0\n",
    "\n",
    "while num >0:\n",
    "    Count +=1\n",
    "    LastDigit = num%10\n",
    "    num = num//10\n",
    "print(\"Total digits in \",n,\" is \",Count)"
   ]
  },
  {
   "cell_type": "markdown",
   "id": "5a233246",
   "metadata": {},
   "source": [
    "## Extract Digits from a Number\n",
    "Given an integer, extract each digit and print it along with its position (starting from the last digit as position 1).\n",
    "For example, for n = 56789, the output should be:\n",
    "* Digit at position 1: 9\n",
    "* Digit at position 2: 8\n",
    "* Digit at position 3: 7\n",
    "* Digit at position 4: 6\n",
    "* Digit at position 5: 5\n",
    "\n",
    "This demonstrates how to use modulo and integer division to process each digit of a number.\n",
    "\n",
    "### Dry Run Explanation with Maths\n",
    "Let n = 56789.\n",
    "\n",
    "Step 1: num = 56789\n",
    "- last_digit = num % 10 = 56789 % 10 = 9\n",
    "- print: Digit at position 1: 9\n",
    "- num = num // 10 = 56789 // 10 = 5678\n",
    "\n",
    "Step 2: num = 5678\n",
    "- last_digit = 5678 % 10 = 8\n",
    "- print: Digit at position 2: 8\n",
    "- num = 5678 // 10 = 567\n",
    "\n",
    "Step 3: num = 567\n",
    "- last_digit = 567 % 10 = 7\n",
    "- print: Digit at position 3: 7\n",
    "- num = 567 // 10 = 56\n",
    "\n",
    "Step 4: num = 56\n",
    "- last_digit = 56 % 10 = 6\n",
    "- print: Digit at position 4: 6\n",
    "- num = 56 // 10 = 5\n",
    "\n",
    "Step 5: num = 5\n",
    "- last_digit = 5 % 10 = 5\n",
    "- print: Digit at position 5: 5\n",
    "- num = 5 // 10 = 0\n",
    "\n",
    "Loop ends as num is now 0."
   ]
  },
  {
   "cell_type": "code",
   "execution_count": 5,
   "id": "b9cf0af1",
   "metadata": {},
   "outputs": [
    {
     "name": "stdout",
     "output_type": "stream",
     "text": [
      "Digit at position 1: 9\n",
      "Digit at position 2: 8\n",
      "Digit at position 3: 7\n",
      "Digit at position 4: 6\n",
      "Digit at position 5: 5\n"
     ]
    }
   ],
   "source": [
    "n = 56789\n",
    "num = n\n",
    "position = 1\n",
    "\n",
    "while num > 0:\n",
    "    last_digit = num % 10\n",
    "    print(f\"Digit at position {position}: {last_digit}\")\n",
    "    num = num // 10\n",
    "    position += 1"
   ]
  }
 ],
 "metadata": {
  "kernelspec": {
   "display_name": "base",
   "language": "python",
   "name": "python3"
  },
  "language_info": {
   "codemirror_mode": {
    "name": "ipython",
    "version": 3
   },
   "file_extension": ".py",
   "mimetype": "text/x-python",
   "name": "python",
   "nbconvert_exporter": "python",
   "pygments_lexer": "ipython3",
   "version": "3.12.11"
  }
 },
 "nbformat": 4,
 "nbformat_minor": 5
}
