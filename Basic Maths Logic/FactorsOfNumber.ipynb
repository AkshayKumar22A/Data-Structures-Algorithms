{
 "cells": [
  {
   "cell_type": "markdown",
   "id": "ac78151d",
   "metadata": {},
   "source": [
    "# Print Divisors or Factors of an Integer\n",
    "\n",
    "## EXAMPLES\n",
    "\n",
    "**Example 1:**\n",
    "Input: x = 10\n",
    "Output: 1 2 5 10\n",
    "\n",
    "**Example 2:**\n",
    "Input: x = 20\n",
    "Output: 1 2 4 5 10 20\n",
    "\n",
    "**Example 3:**\n",
    "Input: x = 7\n",
    "Output: 1 7\n",
    "\n",
    "---\n",
    "\n",
    "## BRUTE FORCE SOLUTION\n",
    "\n",
    "### 1. Problem Statement\n",
    "**Objective:** Find all the factors of a given integer.\n",
    "**Expected Input and Output:**\n",
    "- Input: An integer `num`.\n",
    "- Output: A list of integers that are factors of `num`.\n",
    "\n",
    "### 2. Intuition and Approach\n",
    "**Intuition:** A factor of a number `num` is any integer `i` such that `num % i == 0`. By iterating through all integers from 1 to `num`, we can check each integer to see if it divides `num` without a remainder and collect all such integers.\n",
    "**Approach:**\n",
    "- Initialize an empty list to store the factors.\n",
    "- Loop through all integers from 1 to `num` inclusive.\n",
    "- For each integer `i`, check if `num % i == 0`.\n",
    "- If true, add `i` to the list of factors.\n",
    "- Return the list of factors after the loop completes.\n",
    "\n",
    "### 3. Code Explanation\n",
    "- **Initialize List:** An empty list `factors` is initialized to store the factors of `num`.\n",
    "- **Loop Through Integers:** A for loop iterates from 1 to `num` inclusive.\n",
    "- **Check Divisibility:** For each integer `i`, check if it divides `num` without leaving a remainder using `num % i == 0`.\n",
    "- **Add Factor:** If `i` is a factor, append it to the `factors` list.\n",
    "- **Return List:** After the loop completes, return the `factors` list containing all the factors of `num`.\n",
    "\n",
    "### 4. Dry Run\n",
    "Let's walk through a step-by-step execution with a sample input.\n",
    "\n",
    "### 5. Edge Cases\n",
    "**Potential Edge Cases:**\n",
    "- `num = 1`: The function should return `[1]` because 1 is a factor of itself.\n",
    "- `num = 0`: By mathematical convention, every integer is a factor of 0, but usually, the function might return an empty list or handle it specially since `0 % any number` is 0.\n",
    "- `num < 0`: The function currently doesn't handle negative numbers. If negative numbers are considered, the factors should be the absolute values.\n",
    "**Handling Edge Cases:**\n",
    "- For `num = 1`, the function correctly returns `[1]`.\n",
    "- For `num = 0`, the function currently returns `[]` as it doesn't explicitly handle 0.\n",
    "- For negative numbers, the function should handle the absolute value or reject negative inputs depending on the requirements.\n",
    "\n",
    "### 6. Time and Space Complexity\n",
    "- **Time Complexity:** $O(n)$ because the function iterates from 1 to `num` and performs a modulo operation for each iteration.\n",
    "- **Space Complexity:** $O(k)$, where $k$ is the number of factors of `num`, as it stores the factors in a list.\n"
   ]
  },
  {
   "cell_type": "code",
   "execution_count": 5,
   "id": "7b4e0cbb",
   "metadata": {},
   "outputs": [
    {
     "name": "stdout",
     "output_type": "stream",
     "text": [
      "[1, 2, 3, 4, 6, 9, 12, 18, 36]\n"
     ]
    }
   ],
   "source": [
    "#BRUTE FORCE SOLUTION\n",
    "num = 36\n",
    "result = []\n",
    "\n",
    "for i in range(1,num+1):\n",
    "    if num%i==0:\n",
    "        result.append(i)\n",
    "print(result)"
   ]
  },
  {
   "cell_type": "markdown",
   "id": "8ba65594",
   "metadata": {},
   "source": [
    "\n",
    "## BETTER SOLUTION\n",
    "\n",
    "### 1. Problem Statement\n",
    "Same as above.\n",
    "\n",
    "### 2. Intuition and Approach\n",
    "**Intuition:** To optimize, only check integers up to `num // 2` because any number larger than `num // 2` (except `num` itself) cannot be a factor.\n",
    "**Approach:**\n",
    "- Initialize an empty list to store the factors.\n",
    "- Loop through all integers from 1 to `num // 2` inclusive.\n",
    "- For each integer `i`, check if `num % i == 0`.\n",
    "- If true, add `i` to the list of factors.\n",
    "- After the loop, add `num` itself to the list since it is always a factor.\n",
    "- Return the list of factors.\n",
    "\n",
    "### 3. Code Explanation\n",
    "- **Initialize List:** An empty list `factors` is initialized to store the factors of `num`.\n",
    "- **Loop Through Integers:** A for loop iterates from 1 to `num // 2` inclusive.\n",
    "- **Check Divisibility:** For each integer `i`, check if it divides `num` without leaving a remainder using `num % i == 0`.\n",
    "- **Add Factor:** If `i` is a factor, append it to the `factors` list.\n",
    "- **Add the Number Itself:** After the loop, add `num` itself to the list of factors.\n",
    "- **Return List:** Return the `factors` list containing all the factors of `num`.\n",
    "\n",
    "### 4. Dry Run\n",
    "Let's walk through a step-by-step execution with a sample input.\n",
    "\n",
    "### 5. Edge Cases\n",
    "Same as above.\n",
    "\n",
    "### 6. Time and Space Complexity\n",
    "- **Time Complexity:** $O(n/2)$ or $O(n)$, where $n$ is the input number. This is because the function iterates from 1 to `num // 2` and performs a modulo operation for each iteration.\n",
    "- **Space Complexity:** $O(k)$, where $k$ is the number of factors of `num`, as it stores the factors in a list.\n"
   ]
  },
  {
   "cell_type": "code",
   "execution_count": 6,
   "id": "494eb35f",
   "metadata": {},
   "outputs": [
    {
     "name": "stdout",
     "output_type": "stream",
     "text": [
      "[1, 2, 3, 4, 6, 9, 12, 18, 36]\n"
     ]
    }
   ],
   "source": [
    "#BETTER SOLUTION\n",
    "num = 36\n",
    "result = []\n",
    "for i in range(1,num//2+1):\n",
    "    if num%i==0:\n",
    "        result.append(i)\n",
    "result.append(num) # Including the number itself as a factor\n",
    "print(result)"
   ]
  },
  {
   "cell_type": "markdown",
   "id": "96486d1c",
   "metadata": {},
   "source": [
    "## OPTIMAL SOLUTION\n",
    "\n",
    "### 1. Problem Statement\n",
    "Same as above.\n",
    "\n",
    "### 2. Intuition and Approach\n",
    "**Intuition:** Instead of iterating through all numbers up to `num`, optimize by only iterating up to the square root of `num`. For each divisor `i` found in this range, both `i` and `num // i` are factors of `num`.\n",
    "**Approach:**\n",
    "- Initialize an empty list to store the factors.\n",
    "- Loop through all integers from 1 to the square root of `num` inclusive.\n",
    "- For each integer `i`, check if `num % i == 0`.\n",
    "- If `i` is a factor, add `i` to the list.\n",
    "- If `num // i` is not equal to `i`, add `num // i` to the list to avoid duplicates.\n",
    "- Optionally, sort the list of factors before returning it.\n",
    "\n",
    "### 3. Code Explanation\n",
    "- **Import Required Modules:** Import the `List` type from `typing` and the `sqrt` function from `math`.\n",
    "- **Initialize List:** An empty list `factors` is initialized to store the factors of `num`.\n",
    "- **Loop Through Integers:** A for loop iterates from 1 to the integer value of the square root of `num` inclusive.\n",
    "- **Check Divisibility:** For each integer `i`, check if it divides `num` without leaving a remainder using `num % i == 0`.\n",
    "- **Add Factor:** If `i` is a factor, append it to the `factors` list.\n",
    "- **Add Corresponding Factor:** If `num // i` is not equal to `i`, append `num // i` to the `factors` list to avoid duplicates.\n",
    "- **Sort Factors:** Sort the `factors` list if sorted order is desired.\n",
    "- **Return List:** Return the `factors` list containing all the factors of `num`.\n",
    "\n",
    "### 4. Dry Run\n",
    "Let's walk through a step-by-step execution with a sample input.\n",
    "\n",
    "### 5. Edge Cases\n",
    "Same as above.\n",
    "\n",
    "### 6. Time and Space Complexity\n",
    "- **Time Complexity:** $O(\\sqrt{n})$ because the function iterates from 1 to the square root of `num` and performs a modulo operation for each iteration.\n",
    "- **Space Complexity:** $O(k)$, where $k$ is the number of factors of `num`, as it stores the factors in a list."
   ]
  },
  {
   "cell_type": "code",
   "execution_count": 4,
   "id": "2b7e3ca8",
   "metadata": {},
   "outputs": [
    {
     "name": "stdout",
     "output_type": "stream",
     "text": [
      "[1, 2, 3, 4, 6, 9, 12, 18, 36]\n"
     ]
    }
   ],
   "source": [
    "#OPTIMAL SOLUTION\n",
    "from math import sqrt\n",
    "num = 36\n",
    "result = []\n",
    "for i in range(1,int(sqrt(num))+1):\n",
    "    if num%i==0:\n",
    "        result.append(i)\n",
    "        if i != num//i:  # To avoid adding the square root twice\n",
    "            result.append(num//i)\n",
    "result.sort()  # Sorting the result to have factors in ascending order\n",
    "print(result)"
   ]
  }
 ],
 "metadata": {
  "kernelspec": {
   "display_name": "base",
   "language": "python",
   "name": "python3"
  },
  "language_info": {
   "codemirror_mode": {
    "name": "ipython",
    "version": 3
   },
   "file_extension": ".py",
   "mimetype": "text/x-python",
   "name": "python",
   "nbconvert_exporter": "python",
   "pygments_lexer": "ipython3",
   "version": "3.12.11"
  }
 },
 "nbformat": 4,
 "nbformat_minor": 5
}
