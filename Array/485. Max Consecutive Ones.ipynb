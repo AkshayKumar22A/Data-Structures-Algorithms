{
 "cells": [
  {
   "cell_type": "markdown",
   "id": "bef980ec",
   "metadata": {},
   "source": [
    "<h2><a href=\"https://leetcode.com/problems/max-consecutive-ones\">485. Max Consecutive Ones</a></h2><h3>Easy</h3><hr><p>Given a binary array <code>nums</code>, return <em>the maximum number of consecutive </em><code>1</code><em>&#39;s in the array</em>.</p>\n",
    "\n",
    "<p>&nbsp;</p>\n",
    "<p><strong class=\"example\">Example 1:</strong></p>\n",
    "\n",
    "<pre>\n",
    "<strong>Input:</strong> nums = [1,1,0,1,1,1]\n",
    "<strong>Output:</strong> 3\n",
    "<strong>Explanation:</strong> The first two digits or the last three digits are consecutive 1s. The maximum number of consecutive 1s is 3.\n",
    "</pre>\n",
    "\n",
    "<p><strong class=\"example\">Example 2:</strong></p>\n",
    "\n",
    "<pre>\n",
    "<strong>Input:</strong> nums = [1,0,1,1,0,1]\n",
    "<strong>Output:</strong> 2\n",
    "</pre>\n",
    "\n",
    "<p>&nbsp;</p>\n",
    "<p><strong>Constraints:</strong></p>\n",
    "\n",
    "<ul>\n",
    "\t<li><code>1 &lt;= nums.length &lt;= 10<sup>5</sup></code></li>\n",
    "\t<li><code>nums[i]</code> is either <code>0</code> or <code>1</code>.</li>\n",
    "</ul>\n"
   ]
  },
  {
   "cell_type": "markdown",
   "id": "375b0d37",
   "metadata": {},
   "source": [
    "## Problem Statement\n",
    "\n",
    "Given a binary array, find the maximum number of consecutive 1s in the array.\n",
    "\n",
    "---\n",
    "\n",
    "## Intuition and Approach\n",
    "\n",
    "We need to count the longest streak of consecutive 1s. The optimal approach is to use a single pass with two counters:\n",
    "- `count` for the current streak of 1s\n",
    "- `max_count` for the maximum streak found so far\n",
    "\n",
    "Iterate through the array, increment `count` for each 1, reset `count` to 0 for each 0, and update `max_count` as needed.\n",
    "\n",
    "---\n",
    "\n",
    "## Code Explanation in Details\n",
    "\n",
    "1. Initialize `count = 0` and `max_count = 0`.\n",
    "2. For each element in the array:\n",
    "    - If the element is 1, increment `count`.\n",
    "    - If the element is 0, reset `count` to 0.\n",
    "    - After each step, update `max_count` if `count` is greater.\n",
    "3. Return `max_count` at the end.\n",
    "\n",
    "---\n",
    "\n",
    "## Dry Run (Edge Case Example)\n",
    "\n",
    "Input: `[1, 1, 0, 1, 1, 1]`\n",
    "\n",
    "- i=0: 1 → count=1, max_count=1\n",
    "- i=1: 1 → count=2, max_count=2\n",
    "- i=2: 0 → count=0\n",
    "- i=3: 1 → count=1\n",
    "- i=4: 1 → count=2, max_count=2\n",
    "- i=5: 1 → count=3, max_count=3\n",
    "\n",
    "Output: `3`\n",
    "\n",
    "---\n",
    "\n",
    "## Edge Cases\n",
    "\n",
    "- **Zero input:** `[]` → Output: `0`\n",
    "- **All zeroes:** `[0, 0, 0]` → Output: `0`\n",
    "- **All ones:** `[1, 1, 1]` → Output: `3`\n",
    "- **Single element:** `[0]` or `[1]`\n",
    "- **Negative numbers:** Not applicable (binary array)\n",
    "\n",
    "---\n",
    "\n",
    "## Time and Space Complexity\n",
    "\n",
    "- **Time Complexity:** $O(n)$\n",
    "  - Each element is visited once.\n",
    "- **Space Complexity:** $O(1)$\n",
    "  - Only constant extra space for counters.\n",
    "\n",
    "**Calculation:**\n",
    "- For an array of length $n$, each element is checked once.\n",
    "- No extra space is used beyond counters.\n"
   ]
  },
  {
   "cell_type": "code",
   "execution_count": 2,
   "id": "327215cb",
   "metadata": {},
   "outputs": [
    {
     "data": {
      "text/plain": [
       "3"
      ]
     },
     "execution_count": 2,
     "metadata": {},
     "output_type": "execute_result"
    }
   ],
   "source": [
    "from typing import List\n",
    "class Solution:\n",
    "    def findMaxConsecutiveOnes(self, nums: List[int]) -> int:\n",
    "        count = 0\n",
    "        ans = 0\n",
    "        for i in nums:\n",
    "            if i == 1:\n",
    "                count +=1\n",
    "                ans = max(count,ans)\n",
    "            else:\n",
    "                count = 0\n",
    "        return ans\n",
    "\n",
    "nums = [1,1,0,1,1,1]\n",
    "s = Solution()\n",
    "s.findMaxConsecutiveOnes(nums)"
   ]
  }
 ],
 "metadata": {
  "kernelspec": {
   "display_name": "base",
   "language": "python",
   "name": "python3"
  },
  "language_info": {
   "codemirror_mode": {
    "name": "ipython",
    "version": 3
   },
   "file_extension": ".py",
   "mimetype": "text/x-python",
   "name": "python",
   "nbconvert_exporter": "python",
   "pygments_lexer": "ipython3",
   "version": "3.12.11"
  }
 },
 "nbformat": 4,
 "nbformat_minor": 5
}
