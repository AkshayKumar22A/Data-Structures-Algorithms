{
 "cells": [
  {
   "cell_type": "markdown",
   "id": "3d8ae044",
   "metadata": {},
   "source": [
    "<h2><a href=\"https://leetcode.com/problems/two-sum\">1. Two Sum</a></h2><h3>Easy</h3><hr><p>Given an array of integers <code>nums</code>&nbsp;and an integer <code>target</code>, return <em>indices of the two numbers such that they add up to <code>target</code></em>.</p>\n",
    "\n",
    "<p>You may assume that each input would have <strong><em>exactly</em> one solution</strong>, and you may not use the <em>same</em> element twice.</p>\n",
    "\n",
    "<p>You can return the answer in any order.</p>\n",
    "\n",
    "<p>&nbsp;</p>\n",
    "<p><strong class=\"example\">Example 1:</strong></p>\n",
    "\n",
    "<pre>\n",
    "<strong>Input:</strong> nums = [2,7,11,15], target = 9\n",
    "<strong>Output:</strong> [0,1]\n",
    "<strong>Explanation:</strong> Because nums[0] + nums[1] == 9, we return [0, 1].\n",
    "</pre>\n",
    "\n",
    "<p><strong class=\"example\">Example 2:</strong></p>\n",
    "\n",
    "<pre>\n",
    "<strong>Input:</strong> nums = [3,2,4], target = 6\n",
    "<strong>Output:</strong> [1,2]\n",
    "</pre>\n",
    "\n",
    "<p><strong class=\"example\">Example 3:</strong></p>\n",
    "\n",
    "<pre>\n",
    "<strong>Input:</strong> nums = [3,3], target = 6\n",
    "<strong>Output:</strong> [0,1]\n",
    "</pre>\n",
    "\n",
    "<p>&nbsp;</p>\n",
    "<p><strong>Constraints:</strong></p>\n",
    "\n",
    "<ul>\n",
    "\t<li><code>2 &lt;= nums.length &lt;= 10<sup>4</sup></code></li>\n",
    "\t<li><code>-10<sup>9</sup> &lt;= nums[i] &lt;= 10<sup>9</sup></code></li>\n",
    "\t<li><code>-10<sup>9</sup> &lt;= target &lt;= 10<sup>9</sup></code></li>\n",
    "\t<li><strong>Only one valid answer exists.</strong></li>\n",
    "</ul>\n",
    "\n",
    "<p>&nbsp;</p>\n",
    "<strong>Follow-up:&nbsp;</strong>Can you come up with an algorithm that is less than <code>O(n<sup>2</sup>)</code><font face=\"monospace\">&nbsp;</font>time complexity?"
   ]
  },
  {
   "cell_type": "markdown",
   "id": "3cee1c94",
   "metadata": {},
   "source": [
    "## OPTIMAL SOLUTION\n",
    "### Intuition and Approach\n",
    "- Use a hash map to store numbers and their indices as you iterate through the array.\n",
    "- For each element, calculate the complement (`remaining = target - nums[i]`).\n",
    "- If the complement is already in the hash map, return the indices.\n",
    "- Otherwise, store the current number and its index in the hash map.\n",
    "\n",
    "### Code Explanation in Details\n",
    "```python\n",
    "class Solution:\n",
    "    def twoSum(self, nums: List[int], target: int) -> List[int]:\n",
    "        n = len(nums)\n",
    "        hash_map = dict()\n",
    "        for i in range(n):\n",
    "            remaining = target - nums[i]\n",
    "            if remaining in hash_map:\n",
    "                return [hash_map[remaining], i]\n",
    "            hash_map[nums[i]] = i\n",
    "```\n",
    "- `n = len(nums)`: Get the length of the array.\n",
    "- `hash_map = dict()`: Initialize an empty dictionary.\n",
    "- For each index, calculate the complement and check if it exists in the hash map.\n",
    "- If found, return the indices; otherwise, add the current number to the hash map.\n",
    "\n",
    "### Dry Run\n",
    "Input: `nums = [2,7,11,15]`, `target = 9`\n",
    "- i=0: 2, remaining=7, hash_map={2:0}\n",
    "- i=1: 7, remaining=2, hash_map has 2 → return [0,1]\n",
    "Output: `[0,1]`\n",
    "\n",
    "### Edge Cases\n",
    "- Negative Numbers: Works correctly.\n",
    "- Multiple Valid Pairs: Returns the first pair found.\n",
    "- Single Element: Not possible (constraint: at least 2 elements).\n",
    "\n",
    "### Time and Space Complexity\n",
    "- **Time Complexity:** $O(n)$ (single pass, hash map lookup is $O(1)$)\n",
    "- **Space Complexity:** $O(n)$ (hash map may store all elements)\n"
   ]
  },
  {
   "cell_type": "code",
   "execution_count": 2,
   "id": "7c2fa04d",
   "metadata": {},
   "outputs": [
    {
     "data": {
      "text/plain": [
       "[0, 1]"
      ]
     },
     "execution_count": 2,
     "metadata": {},
     "output_type": "execute_result"
    }
   ],
   "source": [
    "from typing import List\n",
    "class Solution:\n",
    "    def twoSum(self, nums: List[int], target: int) -> List[int]:\n",
    "        n = len(nums)\n",
    "        hash_map = dict()\n",
    "        for i in range(n):\n",
    "            remaining = target - nums[i]\n",
    "            if remaining in hash_map:\n",
    "                return [hash_map[remaining], i]\n",
    "            hash_map[nums[i]] = i\n",
    "\n",
    "nums = [2,7,11,15]\n",
    "target = 9\n",
    "s = Solution()\n",
    "s.twoSum(nums,target)"
   ]
  },
  {
   "cell_type": "markdown",
   "id": "cb885cd4",
   "metadata": {},
   "source": [
    "## BRUTE FORCE SOLUTION\n",
    "\n",
    "### Intuition and Approach\n",
    "- Use two nested loops to check every possible pair of elements in `nums`.\n",
    "- For each pair `(nums[i], nums[j])`, check if their sum equals `target`.\n",
    "- Return the indices `[i, j]` as soon as a valid pair is found.\n",
    "\n",
    "### Code Explanation in Details\n",
    "```python\n",
    "class Solution:\n",
    "    def twoSum(self, nums: List[int], target: int) -> List[int]:\n",
    "        n = len(nums)\n",
    "        for i in range(0, n):\n",
    "            for j in range(i + 1, n):\n",
    "                if nums[i] + nums[j] == target:\n",
    "                    return [i, j]\n",
    "```\n",
    "- `n = len(nums)`: Stores the length of the input array.\n",
    "- Outer loop iterates over each element.\n",
    "- Inner loop checks all subsequent elements to avoid using the same element twice.\n",
    "- If a pair is found, returns their indices immediately.\n",
    "\n",
    "### Dry Run\n",
    "Input: `nums = [2,7,11,15]`, `target = 9`\n",
    "- i=0, j=1: 2+7=9 → return [0,1]\n",
    "Output: `[0,1]`\n",
    "\n",
    "### Edge Cases\n",
    "- No Solution Exists: Not needed (guaranteed one solution).\n",
    "- Negative Numbers: Works correctly.\n",
    "- Multiple Valid Pairs: Returns the first pair found.\n",
    "\n",
    "### Time and Space Complexity\n",
    "- **Time Complexity:** $O(n^2)$ (checks every pair)\n",
    "- **Space Complexity:** $O(1)$ (constant extra space)\n",
    "\n",
    "---\n"
   ]
  },
  {
   "cell_type": "code",
   "execution_count": 1,
   "id": "b34576fe",
   "metadata": {},
   "outputs": [
    {
     "data": {
      "text/plain": [
       "(0, 1)"
      ]
     },
     "execution_count": 1,
     "metadata": {},
     "output_type": "execute_result"
    }
   ],
   "source": [
    "from typing import List\n",
    "class Solution:\n",
    "    def twoSum(self, nums: List[int], target: int) -> List[int]:\n",
    "        l = len(nums)\n",
    "        for i in range(l):\n",
    "            for j in range(i+1,l):\n",
    "                if (nums[i]+nums[j]) == target:\n",
    "                    return i,j\n",
    "\n",
    "nums = [2,7,11,15]\n",
    "target = 9\n",
    "s = Solution()\n",
    "s.twoSum(nums,target)"
   ]
  }
 ],
 "metadata": {
  "kernelspec": {
   "display_name": "base",
   "language": "python",
   "name": "python3"
  },
  "language_info": {
   "codemirror_mode": {
    "name": "ipython",
    "version": 3
   },
   "file_extension": ".py",
   "mimetype": "text/x-python",
   "name": "python",
   "nbconvert_exporter": "python",
   "pygments_lexer": "ipython3",
   "version": "3.12.11"
  }
 },
 "nbformat": 4,
 "nbformat_minor": 5
}
