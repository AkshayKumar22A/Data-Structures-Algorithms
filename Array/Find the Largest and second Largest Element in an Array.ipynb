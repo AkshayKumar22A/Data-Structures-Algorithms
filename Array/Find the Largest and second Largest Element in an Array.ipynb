{
 "cells": [
  {
   "cell_type": "markdown",
   "id": "555e8be7",
   "metadata": {},
   "source": [
    "# Find the Largest and Second Largest Element in an Array\n",
    "\n",
    "---\n",
    "\n",
    "## Problem Statement\n",
    "Given an array of integers, find the largest and the second largest elements in the array.\n",
    "\n",
    "---\n",
    "\n",
    "## Intuition and Approach\n",
    "- To find the largest element, iterate through the array and keep track of the maximum value found so far.\n",
    "- To find the second largest, keep track of both the largest and the second largest values as you iterate.\n",
    "- Update the second largest only when you find a new largest or a value between the current largest and second largest.\n",
    "\n",
    "---\n",
    "\n",
    "## Code Explanation in Details\n",
    "### Largest Element\n",
    "```python\n",
    "class Solution:\n",
    "    def largestNumber(self, nums):\n",
    "        l = len(nums)\n",
    "        largest = float(\"-inf\")\n",
    "        for i in range(0, l):\n",
    "            largest = max(largest, nums[i])\n",
    "        return largest\n",
    "```\n",
    "- **Initialization:** Set `largest` to negative infinity.\n",
    "- **Iteration:** For each element, update `largest` if the current element is greater.\n",
    "- **Return:** The largest value found.\n",
    "\n",
    "### Second Largest Element\n",
    "```python\n",
    "class Solution:\n",
    "    def SecLargestNumber(self, nums):\n",
    "        l = len(nums)\n",
    "        largest = float(\"-inf\")\n",
    "        secLargest = float(\"-inf\")\n",
    "        for i in range(0, l):\n",
    "            if largest < nums[i]:\n",
    "                secLargest = largest\n",
    "                largest = nums[i]\n",
    "            elif secLargest < nums[i] and largest != nums[i]:\n",
    "                secLargest = nums[i]\n",
    "        return secLargest\n",
    "```\n",
    "- **Initialization:** Set both `largest` and `secLargest` to negative infinity.\n",
    "- **Iteration:**\n",
    "    - If current element is greater than `largest`, update both `largest` and `secLargest`.\n",
    "    - If current element is between `secLargest` and `largest` (and not equal to `largest`), update `secLargest`.\n",
    "- **Return:** The second largest value found.\n",
    "\n",
    "---\n",
    "\n",
    "## Dry Run\n",
    "Input: `[55,32,-97,99,3,67]`\n",
    "\n",
    "### Largest\n",
    "- Start: largest = -inf\n",
    "- 55 → largest = 55\n",
    "- 32 → largest = 55\n",
    "- -97 → largest = 55\n",
    "- 99 → largest = 99\n",
    "- 3 → largest = 99\n",
    "- 67 → largest = 99\n",
    "Result: **99**\n",
    "\n",
    "### Second Largest\n",
    "- Start: largest = -inf, secLargest = -inf\n",
    "- 55 → largest = 55, secLargest = -inf\n",
    "- 32 → secLargest = 32\n",
    "- -97 → secLargest = 32\n",
    "- 99 → largest = 99, secLargest = 55\n",
    "- 3 → secLargest = 55\n",
    "- 67 → secLargest = 67\n",
    "Result: **67**\n",
    "\n",
    "---\n",
    "\n",
    "## Edge Cases\n",
    "- **Empty array:** No largest/second largest (should handle gracefully).\n",
    "- **Single element:** Largest is the element, no second largest.\n",
    "- **All elements same:** Largest is the value, second largest may remain -inf.\n",
    "- **Negative numbers:** Works correctly.\n",
    "- **Array with only two elements:** Second largest is the smaller one.\n",
    "\n",
    "---\n",
    "\n",
    "## Time and Space Complexity\n",
    "- **Time Complexity:** O(n) (single pass through array)\n",
    "- **Space Complexity:** O(1) (constant extra space)\n"
   ]
  },
  {
   "cell_type": "code",
   "execution_count": 5,
   "id": "2833045e",
   "metadata": {},
   "outputs": [
    {
     "data": {
      "text/plain": [
       "99"
      ]
     },
     "execution_count": 5,
     "metadata": {},
     "output_type": "execute_result"
    }
   ],
   "source": [
    "class Solution:\n",
    "    def largestNumber(self,nums):\n",
    "        l = len(nums) \n",
    "        largest =  float(\"-inf\")\n",
    "        for i in range(0,l):\n",
    "            largest = max(largest,nums[i])\n",
    "        return largest\n",
    "\n",
    "nums = [55,32,-97,99,3,67]\n",
    "s = Solution()\n",
    "s.largestNumber(nums)"
   ]
  },
  {
   "cell_type": "code",
   "execution_count": null,
   "id": "35db1c75",
   "metadata": {},
   "outputs": [
    {
     "data": {
      "text/plain": [
       "67"
      ]
     },
     "execution_count": 12,
     "metadata": {},
     "output_type": "execute_result"
    }
   ],
   "source": [
    "class Solution:\n",
    "    def SecLargestNumber(self,nums):\n",
    "        l = len(nums) \n",
    "        largest =  float(\"-inf\")\n",
    "        secLargest = float(\"-inf\")\n",
    "        for i in range(0,l):\n",
    "            if largest < nums[i]:\n",
    "                secLargest = largest\n",
    "                largest = nums[i]\n",
    "            elif secLargest < nums[i] and largest != nums[i]:\n",
    "                secLargest = nums[i]\n",
    "        return secLargest\n",
    "\n",
    "nums = [55,32,-97,99,3,67]\n",
    "s = Solution()\n",
    "s.SecLargestNumber(nums)"
   ]
  },
  {
   "cell_type": "code",
   "execution_count": 3,
   "id": "61dc5cad",
   "metadata": {},
   "outputs": [
    {
     "data": {
      "text/plain": [
       "99"
      ]
     },
     "execution_count": 3,
     "metadata": {},
     "output_type": "execute_result"
    }
   ],
   "source": [
    "class Solution:\n",
    "    def largestNumber(self,nums):\n",
    "        nums.sort()\n",
    "        return nums[-1]\n",
    "\n",
    "nums = [55,32,-97,99,3,67]\n",
    "s = Solution()\n",
    "s.largestNumber(nums)"
   ]
  },
  {
   "cell_type": "code",
   "execution_count": 1,
   "id": "079e35b1",
   "metadata": {},
   "outputs": [
    {
     "data": {
      "text/plain": [
       "67"
      ]
     },
     "execution_count": 1,
     "metadata": {},
     "output_type": "execute_result"
    }
   ],
   "source": [
    "class Solution:\n",
    "    def SecLargestNumber(self,nums):\n",
    "        nums.sort()\n",
    "        return nums[-2]\n",
    "\n",
    "nums = [55,32,-97,99,3,67]\n",
    "s = Solution()\n",
    "s.SecLargestNumber(nums)"
   ]
  }
 ],
 "metadata": {
  "kernelspec": {
   "display_name": "base",
   "language": "python",
   "name": "python3"
  },
  "language_info": {
   "codemirror_mode": {
    "name": "ipython",
    "version": 3
   },
   "file_extension": ".py",
   "mimetype": "text/x-python",
   "name": "python",
   "nbconvert_exporter": "python",
   "pygments_lexer": "ipython3",
   "version": "3.12.11"
  }
 },
 "nbformat": 4,
 "nbformat_minor": 5
}
