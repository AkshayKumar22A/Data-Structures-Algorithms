{
 "cells": [
  {
   "cell_type": "markdown",
   "id": "2b94e0e2",
   "metadata": {},
   "source": [
    "<h2><a href=\"https://leetcode.com/problems/missing-number\">268. Missing Number</a></h2><h3>Easy</h3><hr><p>Given an array <code>nums</code> containing <code>n</code> distinct numbers in the range <code>[0, n]</code>, return <em>the only number in the range that is missing from the array.</em></p>\n",
    "\n",
    "<p>&nbsp;</p>\n",
    "<p><strong class=\"example\">Example 1:</strong></p>\n",
    "\n",
    "<div class=\"example-block\">\n",
    "<p><strong>Input:</strong> <span class=\"example-io\">nums = [3,0,1]</span></p>\n",
    "\n",
    "<p><strong>Output:</strong> <span class=\"example-io\">2</span></p>\n",
    "\n",
    "<p><strong>Explanation:</strong></p>\n",
    "\n",
    "<p><code>n = 3</code> since there are 3 numbers, so all numbers are in the range <code>[0,3]</code>. 2 is the missing number in the range since it does not appear in <code>nums</code>.</p>\n",
    "</div>\n",
    "\n",
    "<p><strong class=\"example\">Example 2:</strong></p>\n",
    "\n",
    "<div class=\"example-block\">\n",
    "<p><strong>Input:</strong> <span class=\"example-io\">nums = [0,1]</span></p>\n",
    "\n",
    "<p><strong>Output:</strong> <span class=\"example-io\">2</span></p>\n",
    "\n",
    "<p><strong>Explanation:</strong></p>\n",
    "\n",
    "<p><code>n = 2</code> since there are 2 numbers, so all numbers are in the range <code>[0,2]</code>. 2 is the missing number in the range since it does not appear in <code>nums</code>.</p>\n",
    "</div>\n",
    "\n",
    "<p><strong class=\"example\">Example 3:</strong></p>\n",
    "\n",
    "<div class=\"example-block\">\n",
    "<p><strong>Input:</strong> <span class=\"example-io\">nums = [9,6,4,2,3,5,7,0,1]</span></p>\n",
    "\n",
    "<p><strong>Output:</strong> <span class=\"example-io\">8</span></p>\n",
    "\n",
    "<p><strong>Explanation:</strong></p>\n",
    "\n",
    "<p><code>n = 9</code> since there are 9 numbers, so all numbers are in the range <code>[0,9]</code>. 8 is the missing number in the range since it does not appear in <code>nums</code>.</p>\n",
    "</div>\n",
    "\n",
    "<div class=\"simple-translate-system-theme\" id=\"simple-translate\">\n",
    "<div>\n",
    "<div class=\"simple-translate-button isShow\" style=\"background-image: url(&quot;moz-extension://8a9ffb6b-7e69-4e93-aae1-436a1448eff6/icons/512.png&quot;); height: 22px; width: 22px; top: 318px; left: 36px;\">&nbsp;</div>\n",
    "\n",
    "<div class=\"simple-translate-panel \" style=\"width: 300px; height: 200px; top: 0px; left: 0px; font-size: 13px;\">\n",
    "<div class=\"simple-translate-result-wrapper\" style=\"overflow: hidden;\">\n",
    "<div class=\"simple-translate-move\" draggable=\"true\">&nbsp;</div>\n",
    "\n",
    "<div class=\"simple-translate-result-contents\">\n",
    "<p class=\"simple-translate-result\" dir=\"auto\">&nbsp;</p>\n",
    "\n",
    "<p>&nbsp;</p>\n",
    "<p><strong>Constraints:</strong></p>\n",
    "\n",
    "<ul>\n",
    "\t<li><code>n == nums.length</code></li>\n",
    "\t<li><code>1 &lt;= n &lt;= 10<sup>4</sup></code></li>\n",
    "\t<li><code>0 &lt;= nums[i] &lt;= n</code></li>\n",
    "\t<li>All the numbers of <code>nums</code> are <strong>unique</strong>.</li>\n",
    "</ul>\n",
    "\n",
    "<p>&nbsp;</p>\n",
    "<p><strong>Follow up:</strong> Could you implement a solution using only <code>O(1)</code> extra space complexity and <code>O(n)</code> runtime complexity?</p>\n"
   ]
  },
  {
   "cell_type": "markdown",
   "id": "53a8cf64",
   "metadata": {},
   "source": [
    "## Solution 1: Brute Force\n",
    "\n",
    "### Problem Statement\n",
    "Given an array `nums` containing `n` distinct numbers in the range `[0, n]`, return the only number in the range that is missing from the array.\n",
    "\n",
    "### Intuition and Approach\n",
    "Check for each number from 0 to n if it is present in the array. The first number not found is the missing number.\n",
    "\n",
    "### Code Explanation in Details\n",
    "- Loop from 0 to n.\n",
    "- For each number, check if it is in `nums` using `if i not in nums:`.\n",
    "- If not, return that number.\n",
    "\n",
    "### Dry Run (Edge Case Example)\n",
    "Input: `nums = [3,0,1]`\n",
    "- n = 3\n",
    "- Check: 0 in nums? Yes\n",
    "- Check: 1 in nums? Yes\n",
    "- Check: 2 in nums? No → missing = 2\n",
    "Output: `2`\n",
    "\n",
    "### Edge Cases\n",
    "- Zero input: `nums = [0]` → Output: `1`\n",
    "- Missing zero: `nums = [1,2,3]` → Output: `0`\n",
    "- Missing n: `nums = [0,1,2]` → Output: `3`\n",
    "- Single element: `nums = [0]` or `[1]`\n",
    "- Negative numbers: Not applicable\n",
    "\n",
    "### Time and Space Complexity\n",
    "- **Time Complexity:** $O(n^2)$ (for each number, check in array)\n",
    "- **Space Complexity:** $O(1)$\n",
    "\n",
    "---\n"
   ]
  },
  {
   "cell_type": "code",
   "execution_count": 3,
   "id": "e79001a8",
   "metadata": {},
   "outputs": [
    {
     "data": {
      "text/plain": [
       "8"
      ]
     },
     "execution_count": 3,
     "metadata": {},
     "output_type": "execute_result"
    }
   ],
   "source": [
    "from typing import List\n",
    "class Solution:\n",
    "    def missingNumber(self, nums: List[int]) -> int:\n",
    "        ans = 0\n",
    "        l = len(nums)\n",
    "        for i in range(l+1):\n",
    "            if i not in nums:\n",
    "                ans = i\n",
    "        return ans\n",
    "\n",
    "nums = [9,6,4,2,3,5,7,0,1]\n",
    "s = Solution()\n",
    "s.missingNumber(nums)"
   ]
  },
  {
   "cell_type": "markdown",
   "id": "617fd47e",
   "metadata": {},
   "source": [
    "## Solution 2: Sum Formula (Optimal)\n",
    "\n",
    "### Problem Statement\n",
    "Same as above.\n",
    "\n",
    "### Intuition and Approach\n",
    "The sum of numbers from 0 to n is $\\frac{n(n+1)}{2}$. The missing number is the difference between this sum and the sum of elements in `nums`.\n",
    "\n",
    "### Code Explanation in Details\n",
    "- Calculate $\\text{total} = n(n+1)/2$.\n",
    "- Calculate $\\text{nums\\_sum} = \\text{sum(nums)}$.\n",
    "- Return $\\text{total} - \\text{nums\\_sum}$.\n",
    "\n",
    "### Dry Run (Edge Case Example)\n",
    "Input: `nums = [9,6,4,2,3,5,7,0,1]`\n",
    "- n = 9\n",
    "- total = 9*10/2 = 45\n",
    "- nums_sum = 9+6+4+2+3+5+7+0+1 = 37\n",
    "- missing = 45 - 37 = 8\n",
    "Output: `8`\n",
    "\n",
    "### Edge Cases\n",
    "- Zero input: `nums = [0]` → Output: `1`\n",
    "- Missing zero: `nums = [1,2,3]` → Output: `0`\n",
    "- Missing n: `nums = [0,1,2]` → Output: `3`\n",
    "- Single element: `nums = [0]` or `[1]`\n",
    "- Negative numbers: Not applicable\n",
    "\n",
    "### Time and Space Complexity\n",
    "- **Time Complexity:** $O(n)$ (sum and length calculation)\n",
    "- **Space Complexity:** $O(1)$\n",
    "\n",
    "**Calculation:**\n",
    "- For the optimal approach, sum of array is $O(n)$, and arithmetic sum is $O(1)$.\n",
    "- No extra space is used beyond variables."
   ]
  },
  {
   "cell_type": "code",
   "execution_count": 4,
   "id": "426a0464",
   "metadata": {},
   "outputs": [
    {
     "data": {
      "text/plain": [
       "8"
      ]
     },
     "execution_count": 4,
     "metadata": {},
     "output_type": "execute_result"
    }
   ],
   "source": [
    "from typing import List\n",
    "class Solution:\n",
    "    def missingNumber(self, nums: List[int]) -> int:\n",
    "        l = len(nums)\n",
    "        total = l*(l+1)//2\n",
    "        nums_sum = sum(nums)\n",
    "        return total - nums_sum\n",
    "\n",
    "nums = [9,6,4,2,3,5,7,0,1]\n",
    "s = Solution()\n",
    "s.missingNumber(nums)"
   ]
  }
 ],
 "metadata": {
  "kernelspec": {
   "display_name": "base",
   "language": "python",
   "name": "python3"
  },
  "language_info": {
   "codemirror_mode": {
    "name": "ipython",
    "version": 3
   },
   "file_extension": ".py",
   "mimetype": "text/x-python",
   "name": "python",
   "nbconvert_exporter": "python",
   "pygments_lexer": "ipython3",
   "version": "3.12.11"
  }
 },
 "nbformat": 4,
 "nbformat_minor": 5
}
