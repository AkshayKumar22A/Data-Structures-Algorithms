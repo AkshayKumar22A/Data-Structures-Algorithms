{
 "cells": [
  {
   "cell_type": "markdown",
   "id": "10c15ea6",
   "metadata": {},
   "source": [
    "<h2><a href=\"https://leetcode.com/problems/rearrange-array-elements-by-sign/description/\">2149. Rearrange Array Elements by Sign</a></h2><h3>Medium</h3><hr><p>You are given a <strong>0-indexed</strong> integer array <code>nums</code> of <strong>even</strong> length consisting of an <strong>equal</strong> number of positive and negative integers.</p>\n",
    "\n",
    "<p>You should return the array of nums such that the the array follows the given conditions:</p>\n",
    "\n",
    "<ol>\n",
    "\t<li>Every <strong>consecutive pair</strong> of integers have <strong>opposite signs</strong>.</li>\n",
    "\t<li>For all integers with the same sign, the <strong>order</strong> in which they were present in <code>nums</code> is <strong>preserved</strong>.</li>\n",
    "\t<li>The rearranged array begins with a positive integer.</li>\n",
    "</ol>\n",
    "\n",
    "<p>Return <em>the modified array after rearranging the elements to satisfy the aforementioned conditions</em>.</p>\n",
    "\n",
    "<p>&nbsp;</p>\n",
    "<p><strong class=\"example\">Example 1:</strong></p>\n",
    "\n",
    "<pre>\n",
    "<strong>Input:</strong> nums = [3,1,-2,-5,2,-4]\n",
    "<strong>Output:</strong> [3,-2,1,-5,2,-4]\n",
    "<strong>Explanation:</strong>\n",
    "The positive integers in nums are [3,1,2]. The negative integers are [-2,-5,-4].\n",
    "The only possible way to rearrange them such that they satisfy all conditions is [3,-2,1,-5,2,-4].\n",
    "Other ways such as [1,-2,2,-5,3,-4], [3,1,2,-2,-5,-4], [-2,3,-5,1,-4,2] are incorrect because they do not satisfy one or more conditions.  \n",
    "</pre>\n",
    "\n",
    "<p><strong class=\"example\">Example 2:</strong></p>\n",
    "\n",
    "<pre>\n",
    "<strong>Input:</strong> nums = [-1,1]\n",
    "<strong>Output:</strong> [1,-1]\n",
    "<strong>Explanation:</strong>\n",
    "1 is the only positive integer and -1 the only negative integer in nums.\n",
    "So nums is rearranged to [1,-1].\n",
    "</pre>\n",
    "\n",
    "<p>&nbsp;</p>\n",
    "<p><strong>Constraints:</strong></p>\n",
    "\n",
    "<ul>\n",
    "\t<li><code>2 &lt;= nums.length &lt;= 2 * 10<sup>5</sup></code></li>\n",
    "\t<li><code>nums.length</code> is <strong>even</strong></li>\n",
    "\t<li><code>1 &lt;= |nums[i]| &lt;= 10<sup>5</sup></code></li>\n",
    "\t<li><code>nums</code> consists of <strong>equal</strong> number of positive and negative integers.</li>\n",
    "</ul>\n",
    "\n",
    "<p>&nbsp;</p>\n",
    "It is not required to do the modifications in-place."
   ]
  },
  {
   "cell_type": "markdown",
   "id": "5d774939",
   "metadata": {},
   "source": [
    "## Split then merge (preserves order)\n",
    "\n",
    "Intuition and Approach\n",
    "- Extract all positive numbers in order into list `p` and all negative numbers into list `n`.\n",
    "- Place them alternately into `nums` at even (positive) and odd (negative) indices.\n",
    "\n",
    "Code Explanation (from notebook):\n",
    "- Build `p` and `n` by iterating once through `nums`.\n",
    "- For i in range(l//2): set `nums[2*i] = p[i]` and `nums[2*i+1] = n[i]`.\n",
    "- Return `nums`.\n",
    "\n",
    "Dry Run (Edge Case Example)\n",
    "- Input: `nums = [3,1,-2,-5,2,-4]`\n",
    "- p = [3,1,2], n = [-2,-5,-4]\n",
    "- Output: [3,-2,1,-5,2,-4]\n",
    "\n",
    "Edge Cases\n",
    "- Minimum length (2): `[x,-y]` → returns `[x,-y]` or `[x,-y]` depending on order.\n",
    "- Already arranged input: should return same sequence.\n",
    "- All positives then all negatives: works fine.\n",
    "\n",
    "Complexity\n",
    "- Time: O(n) to build lists and O(n) to merge → O(n) total.\n",
    "- Space: O(n) extra for `p` and `n` (two lists of size n/2).\n",
    "\n",
    "Notes: The notebook code mistakenly initializes `p = [] * (l//2)` which yields `[]`; in Python, use `p = []` and `n = []` (the code still appends so it works, but the multiplication is unnecessary).\n"
   ]
  },
  {
   "cell_type": "code",
   "execution_count": 1,
   "id": "16fb913e",
   "metadata": {},
   "outputs": [
    {
     "data": {
      "text/plain": [
       "[3, -2, 1, -5, 2, -4]"
      ]
     },
     "execution_count": 1,
     "metadata": {},
     "output_type": "execute_result"
    }
   ],
   "source": [
    "from typing import List\n",
    "class Solution:\n",
    "    def rearrangeArray(self, nums: List[int]) -> List[int]:\n",
    "        l = len(nums)\n",
    "        p = [] * (l//2)\n",
    "        n = [] * (l//2)\n",
    "\n",
    "        for i in range(l):\n",
    "            if nums[i] > 0:\n",
    "                p.append(nums[i])\n",
    "            else:\n",
    "                n.append(nums[i])\n",
    "        \n",
    "        for i in range(l//2):\n",
    "            nums[i*2] = p[i]\n",
    "            nums[i*2+1] = n[i]\n",
    "        return nums\n",
    "\n",
    "nums = [3,1,-2,-5,2,-4]\n",
    "s = Solution()\n",
    "s.rearrangeArray(nums)"
   ]
  },
  {
   "cell_type": "markdown",
   "id": "a3430450",
   "metadata": {},
   "source": [
    "## Fill alternating positions (O(1) extra writes)\n",
    "\n",
    "Intuition and Approach\n",
    "- Allocate an answer array `ans` of same size.\n",
    "- Use two pointers `pos = 0` and `neg = 1`. Iterate over `nums` and place positives at `pos`, negatives at `neg`, incrementing by 2 each time.\n",
    "- This preserves the relative order of positives and negatives and fills alternately.\n",
    "\n",
    "Code Explanation (from notebook):\n",
    "- Initialize `ans = [0] * len(nums)`.\n",
    "- For each `num` in `nums`:\n",
    "  - If `num > 0`: set `ans[pos] = num`; `pos += 2`.\n",
    "  - Else: set `ans[neg] = num`; `neg += 2`.\n",
    "- Return `ans`.\n",
    "\n",
    "Dry Run (Edge Case Example)\n",
    "- Input: `nums = [3,1,-2,-5,2,-4]`\n",
    "- ans initial: [0,0,0,0,0,0]\n",
    "- 3 → ans[0]=3, pos=2\n",
    "- 1 → ans[2]=1, pos=4\n",
    "- -2 → ans[1]=-2, neg=3\n",
    "- -5 → ans[3]=-5, neg=5\n",
    "- 2 → ans[4]=2, pos=6\n",
    "- -4 → ans[5]=-4, neg=7\n",
    "- Output: [3,-2,1,-5,2,-4]\n",
    "\n",
    "Edge Cases\n",
    "- Works for minimum length and already-arranged inputs.\n",
    "- Preserves relative order by construction.\n",
    "\n",
    "Complexity\n",
    "- Time: O(n) single pass.\n",
    "- Space: O(n) extra array for `ans`.\n",
    "\n",
    "---\n",
    "\n",
    "## Recommended / Better Solution\n",
    "Both implementations are already optimal in time (O(n)). They require O(n) extra space because the problem does not mandate in-place modifications.\n",
    "\n",
    "If in-place is required, a possible O(n) time and O(1) extra space approach is to use two pointers and cyclic swaps, but preserving relative order makes in-place O(1) extra space approaches complex and typically O(n^2) or require linked structures. Since the problem allows extra space, Implementation B (`ans` with pos/neg pointers) is concise, clear, and slightly safer (no shared-array writes while constructing).\n",
    "\n",
    "---\n",
    "\n",
    "## Summary\n",
    "- Both solutions are correct and preserve ordering.\n",
    "- Prefer Implementation Fill alternating positions for clarity and fewer indexed writes to the original `nums`.\n"
   ]
  },
  {
   "cell_type": "code",
   "execution_count": 2,
   "id": "fe0f8ffc",
   "metadata": {},
   "outputs": [
    {
     "data": {
      "text/plain": [
       "[3, -2, 1, -5, 2, -4]"
      ]
     },
     "execution_count": 2,
     "metadata": {},
     "output_type": "execute_result"
    }
   ],
   "source": [
    "from typing import List\n",
    "class Solution:\n",
    "    def rearrangeArray(self, nums: List[int]) -> List[int]:\n",
    "        ans=[0]*len(nums)\n",
    "        pos,neg=0,1\n",
    "        for num in nums:\n",
    "            if num>0:\n",
    "                ans[pos]=num\n",
    "                pos+=2\n",
    "            else:\n",
    "                ans[neg]=num\n",
    "                neg+=2\n",
    "        return ans\n",
    "\n",
    "nums = [3,1,-2,-5,2,-4]\n",
    "s = Solution()\n",
    "s.rearrangeArray(nums)"
   ]
  }
 ],
 "metadata": {
  "kernelspec": {
   "display_name": "base",
   "language": "python",
   "name": "python3"
  },
  "language_info": {
   "codemirror_mode": {
    "name": "ipython",
    "version": 3
   },
   "file_extension": ".py",
   "mimetype": "text/x-python",
   "name": "python",
   "nbconvert_exporter": "python",
   "pygments_lexer": "ipython3",
   "version": "3.12.11"
  }
 },
 "nbformat": 4,
 "nbformat_minor": 5
}
