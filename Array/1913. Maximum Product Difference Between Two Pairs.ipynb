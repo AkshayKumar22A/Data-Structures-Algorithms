{
 "cells": [
  {
   "cell_type": "markdown",
   "id": "095c40b1",
   "metadata": {},
   "source": [
    "<h2><a href=\"https://leetcode.com/problems/maximum-product-difference-between-two-pairs\">1913. Maximum Product Difference Between Two Pairs</a></h2><h3>Easy</h3><hr><p>The <strong>product difference</strong> between two pairs <code>(a, b)</code> and <code>(c, d)</code> is defined as <code>(a * b) - (c * d)</code>.</p>\n",
    "\n",
    "<ul>\n",
    "\t<li>For example, the product difference between <code>(5, 6)</code> and <code>(2, 7)</code> is <code>(5 * 6) - (2 * 7) = 16</code>.</li>\n",
    "</ul>\n",
    "\n",
    "<p>Given an integer array <code>nums</code>, choose four <strong>distinct</strong> indices <code>w</code>, <code>x</code>, <code>y</code>, and <code>z</code> such that the <strong>product difference</strong> between pairs <code>(nums[w], nums[x])</code> and <code>(nums[y], nums[z])</code> is <strong>maximized</strong>.</p>\n",
    "\n",
    "<p>Return <em>the <strong>maximum</strong> such product difference</em>.</p>\n",
    "\n",
    "<p>&nbsp;</p>\n",
    "<p><strong class=\"example\">Example 1:</strong></p>\n",
    "\n",
    "<pre>\n",
    "<strong>Input:</strong> nums = [5,6,2,7,4]\n",
    "<strong>Output:</strong> 34\n",
    "<strong>Explanation:</strong> We can choose indices 1 and 3 for the first pair (6, 7) and indices 2 and 4 for the second pair (2, 4).\n",
    "The product difference is (6 * 7) - (2 * 4) = 34.\n",
    "</pre>\n",
    "\n",
    "<p><strong class=\"example\">Example 2:</strong></p>\n",
    "\n",
    "<pre>\n",
    "<strong>Input:</strong> nums = [4,2,5,9,7,4,8]\n",
    "<strong>Output:</strong> 64\n",
    "<strong>Explanation:</strong> We can choose indices 3 and 6 for the first pair (9, 8) and indices 1 and 5 for the second pair (2, 4).\n",
    "The product difference is (9 * 8) - (2 * 4) = 64.\n",
    "</pre>\n",
    "\n",
    "<p>&nbsp;</p>\n",
    "<p><strong>Constraints:</strong></p>\n",
    "\n",
    "<ul>\n",
    "\t<li><code>4 &lt;= nums.length &lt;= 10<sup>4</sup></code></li>\n",
    "\t<li><code>1 &lt;= nums[i] &lt;= 10<sup>4</sup></code></li>\n",
    "\n",
    "</ul>"
   ]
  },
  {
   "cell_type": "markdown",
   "id": "f4190e1b",
   "metadata": {},
   "source": [
    "## Approach 1: Without Sorting (Tracking Extremes)\n",
    "\n",
    "### Problem Statement\n",
    "Given an array of integers, choose four distinct indices w, x, y, z such that the product difference between pairs (nums[w], nums[x]) and (nums[y], nums[z]) is maximized. Return the maximum such product difference.\n",
    "\n",
    "### Intuition and Approach\n",
    "To maximize the product difference, select the two largest numbers for one pair and the two smallest numbers for the other pair. The difference (max1 * max2) - (min1 * min2) will be the largest possible.\n",
    "\n",
    "### Code Explanation in Details\n",
    "- Track the two largest and two smallest values in a single pass.\n",
    "- For each element, update largest, second largest, smallest, and second smallest as needed.\n",
    "- Return the product difference.\n",
    "\n",
    "### Dry Run\n",
    "Input: `[4,2,5,9,7,4,8]`\n",
    "- largest = 9, seclargest = 8\n",
    "- smallest = 2, secsmallest = 4\n",
    "- Product difference: (9*8) - (2*4) = 72 - 8 = **64**\n",
    "\n",
    "### Edge Cases\n",
    "- **Array with only 4 elements:** Just use all elements.\n",
    "- **Negative numbers:** Works correctly; smallest may be negative.\n",
    "- **All elements same:** Product difference is zero.\n",
    "- **Zeros in array:** May affect product difference.\n",
    "\n",
    "### Time and Space Complexity\n",
    "- **Time Complexity:** O(n) (single pass)\n",
    "- **Space Complexity:** O(1) (constant extra space)"
   ]
  },
  {
   "cell_type": "code",
   "execution_count": 5,
   "id": "12ce6f9b",
   "metadata": {},
   "outputs": [
    {
     "data": {
      "text/plain": [
       "64"
      ]
     },
     "execution_count": 5,
     "metadata": {},
     "output_type": "execute_result"
    }
   ],
   "source": [
    "from typing import List\n",
    "class Solution:\n",
    "    def maxProductDifference(self, nums: List[int]) -> int:\n",
    "        l = len(nums)\n",
    "        largest = float('-inf')\n",
    "        seclargest = float('-inf')\n",
    "        smallest = float('inf')\n",
    "        secsmallest = float('inf')\n",
    "        for i in range(l):\n",
    "            if largest < nums[i]:\n",
    "                seclargest = largest\n",
    "                largest = nums[i]\n",
    "            elif seclargest < nums[i] and seclargest != largest:\n",
    "                seclargest = nums[i]\n",
    "            if smallest > nums[i]:\n",
    "                secsmallest = smallest\n",
    "                smallest = nums[i]\n",
    "            elif secsmallest > nums[i] and secsmallest != smallest:\n",
    "                secsmallest = nums[i]\n",
    "        return (largest * seclargest) - (smallest * secsmallest)\n",
    "\n",
    "nums = [4,2,5,9,7,4,8]\n",
    "s = Solution()\n",
    "s.maxProductDifference(nums)"
   ]
  },
  {
   "cell_type": "markdown",
   "id": "1c5c0225",
   "metadata": {},
   "source": [
    "## Approach 2: With Sorting\n",
    "\n",
    "### Problem Statement\n",
    "Same as above.\n",
    "\n",
    "### Intuition and Approach\n",
    "Sort the array. The two largest numbers are at the end, and the two smallest are at the start. Compute the product difference using these values.\n",
    "\n",
    "### Code Explanation in Details\n",
    "- Sort the array.\n",
    "- Use the last two elements for the largest pair, and the first two for the smallest pair.\n",
    "- Return the product difference.\n",
    "\n",
    "### Dry Run\n",
    "Input: `[5,6,2,7,4]`\n",
    "- Sorted: `[2,4,5,6,7]`\n",
    "- largest = 7, seclargest = 6\n",
    "- smallest = 2, secsmallest = 4\n",
    "- Product difference: (7*6) - (2*4) = 42 - 8 = **34**\n",
    "\n",
    "### Edge Cases\n",
    "- **Array with only 4 elements:** Just use all elements.\n",
    "- **Negative numbers:** Works correctly; smallest may be negative.\n",
    "- **All elements same:** Product difference is zero.\n",
    "- **Zeros in array:** May affect product difference.\n",
    "\n",
    "### Time and Space Complexity\n",
    "- **Time Complexity:** O(n log n) (due to sorting)\n",
    "- **Space Complexity:** O(1) (if sorting in-place)"
   ]
  },
  {
   "cell_type": "code",
   "execution_count": 4,
   "id": "ff9e0b41",
   "metadata": {},
   "outputs": [
    {
     "data": {
      "text/plain": [
       "34"
      ]
     },
     "execution_count": 4,
     "metadata": {},
     "output_type": "execute_result"
    }
   ],
   "source": [
    "from typing import List\n",
    "class Solution:\n",
    "    def maxProductDifference(self, nums: List[int]) -> int:\n",
    "        nums.sort()\n",
    "        return (nums[-1] * nums[-2]) - (nums[1] * nums[0])\n",
    "\n",
    "nums = [5,6,2,7,4]\n",
    "s = Solution()\n",
    "s.maxProductDifference(nums)\n"
   ]
  }
 ],
 "metadata": {
  "kernelspec": {
   "display_name": "base",
   "language": "python",
   "name": "python3"
  },
  "language_info": {
   "codemirror_mode": {
    "name": "ipython",
    "version": 3
   },
   "file_extension": ".py",
   "mimetype": "text/x-python",
   "name": "python",
   "nbconvert_exporter": "python",
   "pygments_lexer": "ipython3",
   "version": "3.12.11"
  }
 },
 "nbformat": 4,
 "nbformat_minor": 5
}
