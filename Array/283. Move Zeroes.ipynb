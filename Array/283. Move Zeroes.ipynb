{
 "cells": [
  {
   "cell_type": "markdown",
   "id": "081b669a",
   "metadata": {},
   "source": [
    "<h2><a href=\"https://leetcode.com/problems/move-zeroes/\">283. Move Zeroes</a></h2><h3>Easy</h3><hr><p>Given an integer array <code>nums</code>, move all <code>0</code>&#39;s to the end of it while maintaining the relative order of the non-zero elements.</p>\n",
    "\n",
    "<p><strong>Note</strong> that you must do this in-place without making a copy of the array.</p>\n",
    "\n",
    "<p>&nbsp;</p>\n",
    "<p><strong class=\"example\">Example 1:</strong></p>\n",
    "<pre><strong>Input:</strong> nums = [0,1,0,3,12]\n",
    "<strong>Output:</strong> [1,3,12,0,0]\n",
    "</pre><p><strong class=\"example\">Example 2:</strong></p>\n",
    "<pre><strong>Input:</strong> nums = [0]\n",
    "<strong>Output:</strong> [0]\n",
    "</pre>\n",
    "<p>&nbsp;</p>\n",
    "<p><strong>Constraints:</strong></p>\n",
    "\n",
    "<ul>\n",
    "\t<li><code>1 &lt;= nums.length &lt;= 10<sup>4</sup></code></li>\n",
    "\t<li><code>-2<sup>31</sup> &lt;= nums[i] &lt;= 2<sup>31</sup> - 1</code></li>\n",
    "</ul>\n",
    "\n",
    "<p>&nbsp;</p>\n",
    "<strong>Follow up:</strong> Could you minimize the total number of operations done?"
   ]
  },
  {
   "cell_type": "markdown",
   "id": "7bab257f",
   "metadata": {},
   "source": [
    "## Intuition and Approach\n",
    "\n",
    "The goal is to move all zeroes in the array to the end, while maintaining the relative order of non-zero elements. The optimal approach is to use two pointers: one to iterate through the array, and another to track the position to place the next non-zero element.\n",
    "\n",
    "---\n",
    "\n",
    "## Code Explanation in Details\n",
    "\n",
    "1. Initialize a pointer `slow` at 0 and `fast` at 1. `slow` marks the position to place the next non-zero element.\n",
    "2. Iterate through the array with `fast`.\n",
    "3. If `nums[slow]` is not zero, increment both pointers.\n",
    "4. If `nums[fast]` is zero, increment `fast` only.\n",
    "5. If `nums[slow]` is zero and `nums[fast]` is non-zero, swap them.\n",
    "6. Continue until `fast` reaches the end.\n",
    "\n",
    "This ensures all non-zero elements are shifted to the front, and zeroes are moved to the end.\n",
    "\n",
    "---\n",
    "\n",
    "## Dry Run (Edge Case Example)\n",
    "\n",
    "Input: `[0, 1, 0, 3, 12]`\n",
    "\n",
    "- Initial: `slow = 0`, `fast = 1`, `nums = [0, 1, 0, 3, 12]`\n",
    "- fast = 1: nums[slow]=0, nums[fast]=1 → swap → `[1, 0, 0, 3, 12]`, slow=0, fast=1\n",
    "- slow=0, fast=1: nums[slow]=1 → slow=1, fast=2\n",
    "- slow=1, fast=2: nums[slow]=0, nums[fast]=0 → fast=3\n",
    "- slow=1, fast=3: nums[slow]=0, nums[fast]=3 → swap → `[1, 3, 0, 0, 12]`, slow=1, fast=3\n",
    "- slow=1, fast=3: nums[slow]=3 → slow=2, fast=4\n",
    "- slow=2, fast=4: nums[slow]=0, nums[fast]=12 → swap → `[1, 3, 12, 0, 0]`, slow=2, fast=4\n",
    "- slow=2, fast=4: nums[slow]=12 → slow=3, fast=5 (end)\n",
    "\n",
    "Output: `[1, 3, 12, 0, 0]`\n",
    "\n",
    "---\n",
    "\n",
    "## Edge Cases\n",
    "\n",
    "- **Zero input:** `[]` → Output: `[]`\n",
    "- **All zeroes:** `[0, 0, 0]` → Output: `[0, 0, 0]`\n",
    "- **No zeroes:** `[1, 2, 3]` → Output: `[1, 2, 3]`\n",
    "- **Negative numbers:** `[0, -1, 0, -2]` → Output: `[-1, -2, 0, 0]`\n",
    "- **Single element:** `[0]` or `[5]`\n",
    "\n",
    "---\n",
    "\n",
    "## Time and Space Complexity\n",
    "\n",
    "- **Time Complexity:** $O(n)$\n",
    "  - We traverse the array once, each element is visited at most twice.\n",
    "- **Space Complexity:** $O(1)$\n",
    "  - In-place operation, no extra space used.\n",
    "\n",
    "**Calculation:**\n",
    "- For an array of length $n$, each element is visited at most twice.\n",
    "- $O(n) + O(n) = O(n)$ (constants are ignored in Big O).\n"
   ]
  },
  {
   "cell_type": "code",
   "execution_count": 2,
   "id": "79b30f17",
   "metadata": {},
   "outputs": [
    {
     "data": {
      "text/plain": [
       "[1, 3, 12, 0, 0]"
      ]
     },
     "execution_count": 2,
     "metadata": {},
     "output_type": "execute_result"
    }
   ],
   "source": [
    "from typing import List\n",
    "class Solution:\n",
    "    def moveZeroes(self, nums: List[int]) -> None:\n",
    "        \"\"\"\n",
    "        Do not return anything, modify nums in-place instead.\n",
    "        \"\"\"\n",
    "        l = len(nums)\n",
    "        if l < 2:\n",
    "            return\n",
    "        slow = 0\n",
    "        fast = 1\n",
    "        while fast < l:\n",
    "            if nums[slow] != 0:\n",
    "                slow+=1\n",
    "                fast+=1\n",
    "            elif nums[fast] == 0:\n",
    "                fast+=1\n",
    "            else:\n",
    "                nums[slow],nums[fast] = nums[fast],nums[slow]\n",
    "        return nums\n",
    "\n",
    "nums = [0,1,0,3,12]\n",
    "s = Solution()\n",
    "s.moveZeroes(nums)"
   ]
  }
 ],
 "metadata": {
  "kernelspec": {
   "display_name": "base",
   "language": "python",
   "name": "python3"
  },
  "language_info": {
   "codemirror_mode": {
    "name": "ipython",
    "version": 3
   },
   "file_extension": ".py",
   "mimetype": "text/x-python",
   "name": "python",
   "nbconvert_exporter": "python",
   "pygments_lexer": "ipython3",
   "version": "3.12.11"
  }
 },
 "nbformat": 4,
 "nbformat_minor": 5
}
