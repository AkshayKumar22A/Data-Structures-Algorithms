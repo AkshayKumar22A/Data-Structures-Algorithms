{
 "cells": [
  {
   "cell_type": "markdown",
   "id": "3336b4b1",
   "metadata": {},
   "source": [
    "<h2><a href=\"https://leetcode.com/problems/best-time-to-buy-and-sell-stock\">121. Best Time to Buy and Sell Stock</a></h2><h3>Easy</h3><hr><p>You are given an array <code>prices</code> where <code>prices[i]</code> is the price of a given stock on the <code>i<sup>th</sup></code> day.</p>\n",
    "\n",
    "<p>You want to maximize your profit by choosing a <strong>single day</strong> to buy one stock and choosing a <strong>different day in the future</strong> to sell that stock.</p>\n",
    "\n",
    "<p>Return <em>the maximum profit you can achieve from this transaction</em>. If you cannot achieve any profit, return <code>0</code>.</p>\n",
    "\n",
    "<p>&nbsp;</p>\n",
    "<p><strong class=\"example\">Example 1:</strong></p>\n",
    "\n",
    "<pre>\n",
    "<strong>Input:</strong> prices = [7,1,5,3,6,4]\n",
    "<strong>Output:</strong> 5\n",
    "<strong>Explanation:</strong> Buy on day 2 (price = 1) and sell on day 5 (price = 6), profit = 6-1 = 5.\n",
    "Note that buying on day 2 and selling on day 1 is not allowed because you must buy before you sell.\n",
    "</pre>\n",
    "\n",
    "<p><strong class=\"example\">Example 2:</strong></p>\n",
    "\n",
    "<pre>\n",
    "<strong>Input:</strong> prices = [7,6,4,3,1]\n",
    "<strong>Output:</strong> 0\n",
    "<strong>Explanation:</strong> In this case, no transactions are done and the max profit = 0.\n",
    "</pre>\n",
    "\n",
    "<p>&nbsp;</p>\n",
    "<p><strong>Constraints:</strong></p>\n",
    "\n",
    "<ul>\n",
    "\t<li><code>1 &lt;= prices.length &lt;= 10<sup>5</sup></code></li>\n",
    "\t<li><code>0 &lt;= prices[i] &lt;= 10<sup>4</sup></code></li>\n",
    "</ul>\n"
   ]
  },
  {
   "cell_type": "markdown",
   "id": "b2dc98bb",
   "metadata": {},
   "source": [
    "## Problem Statement\n",
    "\n",
    "Given an array `prices` where `prices[i]` is the price of a given stock on day `i`, you want to maximize your profit by choosing a single day to buy and a later day to sell. Return the maximum profit you can achieve. If no profit is possible, return 0.\n",
    "\n",
    "---\n",
    "\n",
    "## Intuition and Approach\n",
    "Track the minimum price seen so far (`min_price`) while iterating through days, and at each day compute the profit if we sold on that day: `prices[i] - min_price`. Keep the largest profit seen (`max_profit`). This is a one-pass greedy approach.\n",
    "\n",
    "---\n",
    "\n",
    "## Code Explanation in Details\n",
    "- Initialize `max_profit = 0` and `min_price` to infinity.\n",
    "- For each price:\n",
    "  - Update `min_price` to be the lowest price observed up to current day.\n",
    "  - Compute potential profit `prices[i] - min_price` and update `max_profit` if it's larger.\n",
    "- Return `max_profit`.\n",
    "\n",
    "---\n",
    "\n",
    "## Dry Run (Edge Case Example)\n",
    "Input: `prices = [7,1,5,3,6,4]`\n",
    "\n",
    "- Day 0: price=7 → min_price=7 → max_profit=0\n",
    "- Day 1: price=1 → min_price=1 → max_profit=0\n",
    "- Day 2: price=5 → min_price=1 → profit=4 → max_profit=4\n",
    "- Day 3: price=3 → min_price=1 → profit=2 → max_profit=4\n",
    "- Day 4: price=6 → min_price=1 → profit=5 → max_profit=5\n",
    "- Day 5: price=4 → min_price=1 → profit=3 → max_profit=5\n",
    "Return 5 (buy at 1, sell at 6)\n",
    "\n",
    "This dry run tests the case where an optimal buy occurs after the start (edge case for naive approaches).\n",
    "\n",
    "---\n",
    "\n",
    "## Edge Cases\n",
    "- Monotonically decreasing prices: `prices = [7,6,4,3,1]` → no profit possible → return 0.\n",
    "- Single day: `prices = [5]` → no transaction possible → return 0.\n",
    "- Multiple same prices: `prices = [2,2,2,2]` → return 0.\n",
    "- Large inputs: works for n up to 1e5.\n",
    "\n",
    "---\n",
    "\n",
    "## Time and Space Complexity\n",
    "- Time Complexity: Best/Average/Worst = O(n) — single pass through `prices`.\n",
    "- Space Complexity: O(1) — only two variables used.\n",
    "\n",
    "Exact reasoning: For each day, we do constant-time min/max arithmetic, so operations ∝ n.\n"
   ]
  },
  {
   "cell_type": "code",
   "execution_count": 2,
   "id": "12b7e82d",
   "metadata": {},
   "outputs": [
    {
     "data": {
      "text/plain": [
       "5"
      ]
     },
     "execution_count": 2,
     "metadata": {},
     "output_type": "execute_result"
    }
   ],
   "source": [
    "from typing import List\n",
    "class Solution:\n",
    "    def maxProfit(self, prices: List[int]) -> int:\n",
    "        max_profit = 0\n",
    "        min_price = float(\"inf\")\n",
    "        for i in range(len(prices)):\n",
    "            min_price = min(min_price, prices[i])\n",
    "            max_profit = max(max_profit, prices[i] - min_price)\n",
    "        return max_profit\n",
    "\n",
    "prices = [7,1,5,3,6,4]\n",
    "s = Solution()\n",
    "s.maxProfit(prices)"
   ]
  }
 ],
 "metadata": {
  "kernelspec": {
   "display_name": "base",
   "language": "python",
   "name": "python3"
  },
  "language_info": {
   "codemirror_mode": {
    "name": "ipython",
    "version": 3
   },
   "file_extension": ".py",
   "mimetype": "text/x-python",
   "name": "python",
   "nbconvert_exporter": "python",
   "pygments_lexer": "ipython3",
   "version": "3.12.11"
  }
 },
 "nbformat": 4,
 "nbformat_minor": 5
}
