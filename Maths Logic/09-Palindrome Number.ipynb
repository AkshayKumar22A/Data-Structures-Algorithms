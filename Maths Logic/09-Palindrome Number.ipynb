{
 "cells": [
  {
   "cell_type": "markdown",
   "id": "6bd3a970",
   "metadata": {},
   "source": [
    "<h2><a href=\"https://leetcode.com/problems/palindrome-number/\">9. Palindrome Number</a></h2><h3>Easy</h3><hr><p>Given an integer <code>x</code>, return <code>true</code><em> if </em><code>x</code><em> is a </em><span data-keyword=\"palindrome-integer\"><em><strong>palindrome</strong></em></span><em>, and </em><code>false</code><em> otherwise</em>.</p>\n",
    "\n",
    "<p>&nbsp;</p>\n",
    "<p><strong class=\"example\">Example 1:</strong></p>\n",
    "\n",
    "<pre>\n",
    "<strong>Input:</strong> x = 121\n",
    "<strong>Output:</strong> true\n",
    "<strong>Explanation:</strong> 121 reads as 121 from left to right and from right to left.\n",
    "</pre>\n",
    "\n",
    "<p><strong class=\"example\">Example 2:</strong></p>\n",
    "\n",
    "<pre>\n",
    "<strong>Input:</strong> x = -121\n",
    "<strong>Output:</strong> false\n",
    "<strong>Explanation:</strong> From left to right, it reads -121. From right to left, it becomes 121-. Therefore it is not a palindrome.\n",
    "</pre>\n",
    "\n",
    "<p><strong class=\"example\">Example 3:</strong></p>\n",
    "\n",
    "<pre>\n",
    "<strong>Input:</strong> x = 10\n",
    "<strong>Output:</strong> false\n",
    "<strong>Explanation:</strong> Reads 01 from right to left. Therefore it is not a palindrome.\n",
    "</pre>\n",
    "\n",
    "<p>&nbsp;</p>\n",
    "<p><strong>Constraints:</strong></p>\n",
    "\n",
    "<ul>\n",
    "\t<li><code>-2<sup>31</sup>&nbsp;&lt;= x &lt;= 2<sup>31</sup>&nbsp;- 1</code></li>\n",
    "</ul>\n",
    "\n",
    "<p>&nbsp;</p>\n",
    "<strong>Follow up:</strong> Could you solve it without converting the integer to a string?"
   ]
  },
  {
   "cell_type": "code",
   "execution_count": 4,
   "id": "cb888a91",
   "metadata": {},
   "outputs": [
    {
     "name": "stdout",
     "output_type": "stream",
     "text": [
      "Palindrome Number\n"
     ]
    }
   ],
   "source": [
    "x = 121\n",
    "if x < 0:\n",
    "    print(\"Negative number\")\n",
    "num = x\n",
    "palindrome_number = 0\n",
    "while num > 0:\n",
    "    last_digit = num % 10\n",
    "    palindrome_number = palindrome_number * 10 + last_digit\n",
    "    num = num // 10\n",
    "if palindrome_number == x:\n",
    "    print(\"Palindrome Number\")\n",
    "else:\n",
    "    print(\"Not a Palindrome Number\")"
   ]
  },
  {
   "cell_type": "markdown",
   "id": "c34fc266",
   "metadata": {},
   "source": [
    "# Palindrome Number\n",
    "\n",
    "## 1. Problem Statement\n",
    "Given an integer `x`, determine if it is a palindrome. A palindrome number reads the same backward as forward.\n",
    "\n",
    "**Expected Input and Output:**\n",
    "- Input: An integer `x`.\n",
    "- Output: Print whether `x` is a palindrome number or not.\n",
    "\n",
    "## 2. Intuition and Approach\n",
    "**Intuition:**\n",
    "- A palindrome number remains the same when its digits are reversed.\n",
    "- Negative numbers cannot be palindromes because of the minus sign.\n",
    "\n",
    "**Approach:**\n",
    "- If `x` is negative, immediately return that it is not a palindrome.\n",
    "- Reverse the digits of `x` using mathematical operations (without converting to a string).\n",
    "- Compare the reversed number to the original number.\n",
    "- If they are equal, `x` is a palindrome.\n",
    "\n",
    "## 3. Code Explanation in Details\n",
    "- `x = 121`: The number to check.\n",
    "- If `x < 0`, print \"Negative number\" (not a palindrome).\n",
    "- `num = x`: Store the original number for processing.\n",
    "- `palindrome_number = 0`: Initialize the reversed number.\n",
    "- The `while` loop extracts each digit from `num` using modulo (`% 10`), appends it to `palindrome_number`, and removes the digit from `num` using integer division by 10.\n",
    "- After reversing, compare `palindrome_number` to `x`:\n",
    "    - If equal, print \"Palindrome Number\".\n",
    "    - Otherwise, print \"Not a Palindrome Number\".\n",
    "\n",
    "## 4. Dry Run\n",
    "Let's check for `x = 121`:\n",
    "- Initial: `num = 121`, `palindrome_number = 0`\n",
    "- Step 1: `last_digit = 121 % 10 = 1`, `palindrome_number = 0 * 10 + 1 = 1`, `num = 121 // 10 = 12`\n",
    "- Step 2: `last_digit = 12 % 10 = 2`, `palindrome_number = 1 * 10 + 2 = 12`, `num = 12 // 10 = 1`\n",
    "- Step 3: `last_digit = 1 % 10 = 1`, `palindrome_number = 12 * 10 + 1 = 121`, `num = 1 // 10 = 0`\n",
    "- Final check: `palindrome_number == x` (121 == 121) → Palindrome Number\n",
    "\n",
    "## 5. Edge Cases\n",
    "**Potential Edge Cases:**\n",
    "- **Zero Input:** `x = 0` is a palindrome (reads the same forward and backward).\n",
    "- **Negative Numbers:** Any negative number is not a palindrome due to the minus sign.\n",
    "- **Single Digit Numbers:** All single digit numbers are palindromes.\n",
    "- **Numbers ending with zero:** Except for zero itself, numbers like `10`, `100` are not palindromes.\n",
    "\n",
    "## 6. Time and Space Complexity\n",
    "- **Time Complexity:** $O(d)$, where $d$ is the number of digits in `x` (each digit is processed once).\n",
    "- **Space Complexity:** $O(1)$, as only a fixed number of variables are used regardless of input size.\n"
   ]
  }
 ],
 "metadata": {
  "kernelspec": {
   "display_name": "base",
   "language": "python",
   "name": "python3"
  },
  "language_info": {
   "codemirror_mode": {
    "name": "ipython",
    "version": 3
   },
   "file_extension": ".py",
   "mimetype": "text/x-python",
   "name": "python",
   "nbconvert_exporter": "python",
   "pygments_lexer": "ipython3",
   "version": "3.12.11"
  }
 },
 "nbformat": 4,
 "nbformat_minor": 5
}
