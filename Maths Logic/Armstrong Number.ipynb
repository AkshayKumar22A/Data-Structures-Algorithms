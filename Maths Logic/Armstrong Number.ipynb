{
 "cells": [
  {
   "cell_type": "markdown",
   "id": "c5f2d5f1",
   "metadata": {},
   "source": [
    "# Armstrong Number\n",
    "\n",
    "## 1. Problem Statement\n",
    "**Objective:** Determine whether a given integer `num` is an Armstrong number (narcissistic number). An Armstrong number is equal to the sum of its own digits each raised to the power of the number of digits.\n",
    "\n",
    "**Purpose:** The function `isArmstrong` checks if the integer `num` is an Armstrong number by calculating the sum of its digits each raised to the power of the number of digits and comparing it to the original number.\n",
    "\n",
    "**Expected Input and Output:**\n",
    "- **Input:** A positive integer `num`.\n",
    "- **Output:** `True` if `num` is an Armstrong number, `False` otherwise.\n",
    "\n",
    "## 2. Intuition and Approach\n",
    "**Intuition:** To determine if a number is an Armstrong number, break the number into its individual digits, raise each digit to the power of the total number of digits, and sum these values. If the sum equals the original number, it is an Armstrong number.\n",
    "\n",
    "**Approach:**\n",
    "- Convert the number to a string to determine the number of digits.\n",
    "- Initialize a variable to store the sum of the digits each raised to the power of the number of digits.\n",
    "- Use a loop to extract each digit, raise it to the appropriate power, and add the result to the sum.\n",
    "- Compare the computed sum to the original number to determine if it is an Armstrong number.\n",
    "\n",
    "**Step-by-step Explanation:**\n",
    "- **Number of Digits:** The variable `k` is set to the length of the string representation of `num`, giving the number of digits in `num`.\n",
    "- **Initialize Sum:** The variable `arm_sum` is initialized to 0 to accumulate the sum of the digits raised to the power of `k`.\n",
    "- **Loop to Calculate Sum:**\n",
    "    - While `n` is greater than 0, the last digit `ld` is extracted using `n % 10`.\n",
    "    - This digit is raised to the power of `k` and added to `arm_sum`.\n",
    "    - The last digit is removed from `n` using integer division by 10.\n",
    "- **Return Comparison:** The function returns `True` if `arm_sum` is equal to `num`, and `False` otherwise.\n",
    "\n",
    "## 3. Code Explanation in Detail\n",
    "- `n = 153`: The number to check.\n",
    "- `i = len(str(n))`: Calculate the number of digits in `n`.\n",
    "- `num = n`: Store the original number for processing.\n",
    "- `sum = 0`: Initialize the sum.\n",
    "- The `while` loop extracts each digit from `num` using modulo (`% 10`), raises it to the power `i`, and adds it to `sum`.\n",
    "- After processing all digits, compare `sum` to `n`:\n",
    "    - If equal, print that `n` is an Armstrong number.\n",
    "    - Otherwise, print that it is not.\n",
    "\n",
    "## 4. Dry Run\n",
    "Let's check for `n = 153`:\n",
    "- Number of digits: `i = 3`\n",
    "- Step 1: `num = 153`, `last_digit = 153 % 10 = 3`, `sum = 0 + 3^3 = 27`, `num = 153 // 10 = 15`\n",
    "- Step 2: `num = 15`, `last_digit = 15 % 10 = 5`, `sum = 27 + 5^3 = 152`, `num = 15 // 10 = 1`\n",
    "- Step 3: `num = 1`, `last_digit = 1 % 10 = 1`, `sum = 152 + 1^3 = 153`, `num = 1 // 10 = 0`\n",
    "- Final check: `sum == n` (153 == 153) → Armstrong number\n",
    "\n",
    "## 5. Edge Cases\n",
    "**Potential Edge Cases:**\n",
    "- **Single-Digit Numbers:** Any single-digit number should return `True` as any number is equal to itself raised to the power of one (e.g., `num = 5`).\n",
    "- **Zero:** `num = 0` should return `True` as $0^1 = 0$.\n",
    "- **Large Numbers:** The function should handle large numbers correctly and check if they are Armstrong numbers.\n",
    "\n",
    "**Handling Edge Cases:**\n",
    "- The current code handles single-digit numbers and zero correctly. It also works for large numbers due to Python's ability to handle large integers.\n",
    "\n",
    "## 6. Time and Space Complexity\n",
    "- **Time Complexity:** $O(\\log_{10}N + 1)$ where $N$ is the input number. The time complexity is determined by the number of digits in the input integer $N$. In the worst case when $N$ is a multiple of 10, the number of digits in $N$ is $\\log_{10}N + 1$.\n",
    "    - In the while loop, we divide $N$ by 10 until it becomes 0, which takes $\\log_{10}N$ iterations.\n",
    "    - In each iteration of the while loop, we perform constant time operations like modulus and division.\n",
    "- **Space Complexity:** $O(1)$ as only a constant amount of additional memory is used regardless of the size of the input number.\n"
   ]
  },
  {
   "cell_type": "code",
   "execution_count": 1,
   "id": "bbd216d5",
   "metadata": {},
   "outputs": [
    {
     "name": "stdout",
     "output_type": "stream",
     "text": [
      "153 is an Armstrong number\n"
     ]
    }
   ],
   "source": [
    "n = 153\n",
    "i = len(str(n))\n",
    "num = n\n",
    "sum = 0\n",
    "while num > 0:\n",
    "    last_digit = num % 10\n",
    "    sum += last_digit ** i\n",
    "    num = num // 10\n",
    "if sum == n:\n",
    "    print(n, \"is an Armstrong number\")\n",
    "else:\n",
    "    print(n, \"is not an Armstrong number\")"
   ]
  }
 ],
 "metadata": {
  "kernelspec": {
   "display_name": "base",
   "language": "python",
   "name": "python3"
  },
  "language_info": {
   "codemirror_mode": {
    "name": "ipython",
    "version": 3
   },
   "file_extension": ".py",
   "mimetype": "text/x-python",
   "name": "python",
   "nbconvert_exporter": "python",
   "pygments_lexer": "ipython3",
   "version": "3.12.11"
  }
 },
 "nbformat": 4,
 "nbformat_minor": 5
}
