{
 "cells": [
  {
   "cell_type": "markdown",
   "id": "0e7c60cd",
   "metadata": {},
   "source": [
    "<h2><a href=\"https://leetcode.com/problems/factorial-trailing-zeroes/\">172. Factorial Trailing Zeroes</a></h2><h3>Medium</h3><hr><p>Given an integer <code>n</code>, return <em>the number of trailing zeroes in </em><code>n!</code>.</p>\n",
    "\n",
    "<p>Note that <code>n! = n * (n - 1) * (n - 2) * ... * 3 * 2 * 1</code>.</p>\n",
    "\n",
    "<p>&nbsp;</p>\n",
    "<p><strong class=\"example\">Example 1:</strong></p>\n",
    "\n",
    "<pre>\n",
    "<strong>Input:</strong> n = 3\n",
    "<strong>Output:</strong> 0\n",
    "<strong>Explanation:</strong> 3! = 6, no trailing zero.\n",
    "</pre>\n",
    "\n",
    "<p><strong class=\"example\">Example 2:</strong></p>\n",
    "\n",
    "<pre>\n",
    "<strong>Input:</strong> n = 5\n",
    "<strong>Output:</strong> 1\n",
    "<strong>Explanation:</strong> 5! = 120, one trailing zero.\n",
    "</pre>\n",
    "\n",
    "<p><strong class=\"example\">Example 3:</strong></p>\n",
    "\n",
    "<pre>\n",
    "<strong>Input:</strong> n = 0\n",
    "<strong>Output:</strong> 0\n",
    "</pre>\n",
    "\n",
    "<p>&nbsp;</p>\n",
    "<p><strong>Constraints:</strong></p>\n",
    "\n",
    "<ul>\n",
    "\t<li><code>0 &lt;= n &lt;= 10<sup>4</sup></code></li>\n",
    "</ul>\n",
    "\n",
    "<p>&nbsp;</p>\n",
    "<p><strong>Follow up:</strong> Could you write a solution that works in logarithmic time complexity?</p>\n"
   ]
  },
  {
   "cell_type": "markdown",
   "id": "e02e77d7",
   "metadata": {},
   "source": [
    "# Factorial Trailing Zeroes\n",
    "\n",
    "## 1. Problem Statement\n",
    "Given an integer `n`, return the number of trailing zeroes in `n!` (n factorial).\n",
    "\n",
    "**Expected Input and Output:**\n",
    "- Input: An integer `n`.\n",
    "- Output: An integer representing the number of trailing zeroes in `n!`.\n",
    "\n",
    "## 2. Intuition and Approach\n",
    "**Intuition:**\n",
    "- Trailing zeroes in a factorial are produced by factors of 10, which come from pairs of 2 and 5. Since there are usually more 2s than 5s, the number of 5s determines the number of trailing zeroes.\n",
    "- For every multiple of 5 in the factorial, we get at least one extra trailing zero. Numbers like 25, 125, etc., contribute more than one 5.\n",
    "\n",
    "**Approach:**\n",
    "- Initialize a result variable to 0.\n",
    "- While `n` is greater than 0:\n",
    "    - Divide `n` by 5 and add the result to the result variable.\n",
    "    - Repeat until `n` becomes 0.\n",
    "- Return the result variable.\n",
    "\n",
    "## 3. Code Explanation in Details\n",
    "- `class Solution:`: Defines the solution class.\n",
    "- `def trailingZeroes(self, n: int) -> int:`: Function to compute trailing zeroes.\n",
    "- `res = 0`: Initialize result.\n",
    "- `while n > 0:`: Loop until `n` is 0.\n",
    "    - `n //= 5`: Divide `n` by 5.\n",
    "    - `res += n`: Add the quotient to result.\n",
    "- `return res`: Return the total count of trailing zeroes.\n",
    "\n",
    "## 4. Dry Run\n",
    "For `n = 24`:\n",
    "- First iteration: `n = 24 // 5 = 4`, `res = 4`\n",
    "- Second iteration: `n = 4 // 5 = 0`, `res = 4`\n",
    "- Loop ends. Final result: 4 trailing zeroes in 24!\n",
    "\n",
    "For `n = 5`:\n",
    "- First iteration: `n = 5 // 5 = 1`, `res = 1`\n",
    "- Second iteration: `n = 1 // 5 = 0`, `res = 1`\n",
    "- Loop ends. Final result: 1 trailing zero in 5!\n",
    "\n",
    "## 5. Edge Cases\n",
    "- **Zero Input:** `n = 0` returns 0 (0! = 1, no trailing zero).\n",
    "- **Negative Number:** Not defined for negative numbers; function should return 0 or handle as invalid input.\n",
    "- **Small Numbers:** For `n < 5`, always returns 0.\n",
    "- **Large Numbers:** Handles large `n` efficiently due to logarithmic approach.\n",
    "\n",
    "## 6. Time and Space Complexity\n",
    "- **Time Complexity:** $O(\\log_5 n)$, as we divide `n` by 5 in each iteration.\n",
    "- **Space Complexity:** $O(1)$, as only a constant amount of space is used.\n"
   ]
  },
  {
   "cell_type": "code",
   "execution_count": 5,
   "id": "54cc059f",
   "metadata": {},
   "outputs": [
    {
     "data": {
      "text/plain": [
       "4"
      ]
     },
     "execution_count": 5,
     "metadata": {},
     "output_type": "execute_result"
    }
   ],
   "source": [
    "class Solution:\n",
    "    def trailingZeroes(self, n: int) -> int:\n",
    "        res = 0\n",
    "        while n > 0:\n",
    "            n //= 5\n",
    "            res += n\n",
    "        return res\n",
    "\n",
    "sol = Solution()\n",
    "sol.trailingZeroes(24)        "
   ]
  },
  {
   "cell_type": "markdown",
   "id": "42425bb1",
   "metadata": {},
   "source": [
    "# Brute Force Solution for Factorial Trailing Zeroes\n",
    "\n",
    "## Intuition and Approach\n",
    "**Intuition:**\n",
    "- To find trailing zeroes in `n!`, compute the factorial and count the number of zeros at the end.\n",
    "- Trailing zeroes are produced by factors of 10, which come from pairs of 2 and 5 in the multiplication.\n",
    "\n",
    "**Approach:**\n",
    "- Compute the factorial of `n` by multiplying all numbers from `n` down to 1.\n",
    "- Count the number of zeros at the end of the factorial by repeatedly checking the last digit and dividing by 10 until a non-zero digit is found.\n",
    "\n",
    "## Code Explanation in Details\n",
    "- `if n == 0: return 0`: If `n` is zero, return 0 (0! = 1, no trailing zero).\n",
    "- `fact = 1`: Initialize factorial.\n",
    "- `for i in range(n,1,-1): fact = fact * i`: Compute factorial by multiplying all numbers from `n` down to 1.\n",
    "- `count = 0`: Initialize zero counter.\n",
    "- `while fact > 0:`: Loop to count trailing zeroes.\n",
    "    - `last_digit = fact % 10`: Get last digit.\n",
    "    - If last digit is zero, increment count.\n",
    "    - If last digit is not zero, break loop.\n",
    "    - Divide `fact` by 10 to remove last digit.\n",
    "- Return count.\n",
    "\n",
    "## Dry Run\n",
    "For `n = 5`:\n",
    "- Compute factorial: `5 * 4 * 3 * 2 * 1 = 120`\n",
    "- Count trailing zeroes:\n",
    "    - `120 % 10 = 0` → count = 1\n",
    "    - `12 % 10 = 2` → break\n",
    "- Result: 1 trailing zero\n",
    "\n",
    "For `n = 3`:\n",
    "- Compute factorial: `3 * 2 * 1 = 6`\n",
    "- `6 % 10 = 6` → break\n",
    "- Result: 0 trailing zero\n",
    "\n",
    "## Edge Cases\n",
    "- **Zero Input:** `n = 0` returns 0 (0! = 1, no trailing zero).\n",
    "- **Negative Number:** Not defined for negative numbers; function should return 0 or handle as invalid input.\n",
    "- **Small Numbers:** For `n < 5`, always returns 0.\n",
    "- **Large Numbers:** Not practical for large `n` due to large factorial values.\n",
    "\n",
    "## Time and Space Complexity\n",
    "- **Time Complexity:** $O(n)$, as we compute the factorial by multiplying $n$ numbers.\n",
    "- **Space Complexity:** $O(1)$, but factorial value can be very large and may cause overflow for big $n$.\n"
   ]
  },
  {
   "cell_type": "code",
   "execution_count": 6,
   "id": "cd36f35b",
   "metadata": {},
   "outputs": [
    {
     "data": {
      "text/plain": [
       "4"
      ]
     },
     "execution_count": 6,
     "metadata": {},
     "output_type": "execute_result"
    }
   ],
   "source": [
    "# BRUTE FORCE SOLUTION\n",
    "class Solution:\n",
    "    def trailingZeroes(self, n: int) -> int:\n",
    "        if n == 0:\n",
    "            return 0\n",
    "        fact = 1\n",
    "        for i in range(n,1,-1):\n",
    "            fact = fact * i\n",
    "        count = 0\n",
    "        while fact>0:\n",
    "            last_digit = fact % 10\n",
    "            if last_digit == 0:\n",
    "                count+=1\n",
    "            if last_digit != 0:\n",
    "                break\n",
    "            fact = fact // 10\n",
    "        return count\n",
    "    \n",
    "sol = Solution()\n",
    "sol.trailingZeroes(24)  "
   ]
  }
 ],
 "metadata": {
  "kernelspec": {
   "display_name": "base",
   "language": "python",
   "name": "python3"
  },
  "language_info": {
   "codemirror_mode": {
    "name": "ipython",
    "version": 3
   },
   "file_extension": ".py",
   "mimetype": "text/x-python",
   "name": "python",
   "nbconvert_exporter": "python",
   "pygments_lexer": "ipython3",
   "version": "3.12.11"
  }
 },
 "nbformat": 4,
 "nbformat_minor": 5
}
