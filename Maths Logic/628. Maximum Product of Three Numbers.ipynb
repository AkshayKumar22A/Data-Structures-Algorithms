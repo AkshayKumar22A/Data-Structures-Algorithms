{
 "cells": [
  {
   "cell_type": "markdown",
   "id": "241353f3",
   "metadata": {},
   "source": [
    "<h2><a href=\"https://leetcode.com/problems/maximum-product-of-three-numbers\">628. Maximum Product of Three Numbers</a></h2><h3>Easy</h3><hr><p>Given an integer array <code>nums</code>, <em>find three numbers whose product is maximum and return the maximum product</em>.</p>\n",
    "\n",
    "<p>&nbsp;</p>\n",
    "<p><strong class=\"example\">Example 1:</strong></p>\n",
    "<pre><strong>Input:</strong> nums = [1,2,3]\n",
    "<strong>Output:</strong> 6\n",
    "</pre><p><strong class=\"example\">Example 2:</strong></p>\n",
    "<pre><strong>Input:</strong> nums = [1,2,3,4]\n",
    "<strong>Output:</strong> 24\n",
    "</pre><p><strong class=\"example\">Example 3:</strong></p>\n",
    "<pre><strong>Input:</strong> nums = [-1,-2,-3]\n",
    "<strong>Output:</strong> -6\n",
    "</pre>\n",
    "<p>&nbsp;</p>\n",
    "<p><strong>Constraints:</strong></p>\n",
    "\n",
    "<ul>\n",
    "\t<li><code>3 &lt;= nums.length &lt;=&nbsp;10<sup>4</sup></code></li>\n",
    "\t<li><code>-1000 &lt;= nums[i] &lt;= 1000</code></li>\n",
    "</ul>\n"
   ]
  },
  {
   "cell_type": "markdown",
   "id": "ee5046e9",
   "metadata": {},
   "source": [
    "## Intuition and Approach\n",
    "To find the maximum product of any three numbers in the array, we need to consider:\n",
    "- The product of the three largest numbers (all positive or all negative with even count).\n",
    "- The product of the two smallest (most negative) numbers and the largest positive number (since two negatives make a positive).\n",
    "\n",
    "So, we track the top three maximum values and the two minimum values in the array. The answer is the maximum of these two products.\n",
    "\n",
    "---\n",
    "\n",
    "## Code Explanation in Details\n",
    "- **Track top 3 maximums (`fe`, `se`, `te`)**: These are the first, second, and third largest numbers.\n",
    "- **Track bottom 2 minimums (`min1`, `min2`)**: These are the smallest and second smallest numbers.\n",
    "- For each number, update the top 3 maximums and bottom 2 minimums as needed.\n",
    "- The result is the maximum of:\n",
    "    - Product of the three largest numbers (`fe * se * te`)\n",
    "    - Product of the largest and two smallest numbers (`fe * min1 * min2`)\n",
    "\n",
    "---\n",
    "\n",
    "## Dry Run (Step-by-step)\n",
    "Input: `nums = [-100, 1, 2, -90, 3, 4]`\n",
    "\n",
    "Initial values:\n",
    "- fe, se, te = -inf, -inf, -inf\n",
    "- min1, min2 = inf, inf\n",
    "\n",
    "Iterate through nums:\n",
    "- num = -100: fe = -100, min1 = -100\n",
    "- num = 1: fe = 1, se = -100, min2 = -100\n",
    "- num = 2: fe = 2, se = 1, te = -100\n",
    "- num = -90: min2 = -90, te = 1\n",
    "- num = 3: fe = 3, se = 2, te = 1\n",
    "- num = 4: fe = 4, se = 3, te = 2\n",
    "\n",
    "Final values:\n",
    "- Top 3 max: 4, 3, 2\n",
    "- Bottom 2 min: -100, -90\n",
    "\n",
    "Calculate products:\n",
    "- 4 * 3 * 2 = 24\n",
    "- 4 * -100 * -90 = 36000\n",
    "\n",
    "Return max(24, 36000) = **36000**\n",
    "\n",
    "---\n",
    "\n",
    "## Edge Cases\n",
    "- **All positive numbers:** Product of three largest.\n",
    "- **All negative numbers:** Product of three least negative (largest negative) numbers.\n",
    "- **Mix of positive and negative:** Product of two smallest (most negative) and largest positive may be higher.\n",
    "- **Zeros in array:** If zeros are present, product may be zero if chosen.\n",
    "- **Array with exactly three elements:** Just multiply all three.\n",
    "\n",
    "---\n",
    "\n",
    "## Time and Space Complexity\n",
    "- **Time Complexity:** O(n) (single pass through array)\n",
    "- **Space Complexity:** O(1) (constant extra space for five variables)\n"
   ]
  },
  {
   "cell_type": "code",
   "execution_count": 3,
   "id": "a333d084",
   "metadata": {},
   "outputs": [
    {
     "data": {
      "text/plain": [
       "36000"
      ]
     },
     "execution_count": 3,
     "metadata": {},
     "output_type": "execute_result"
    }
   ],
   "source": [
    "from typing import List\n",
    "class Solution:\n",
    "    def maximumProduct(self, nums: List[int]) -> int:\n",
    "        fe, se, te = float(\"-inf\"), float(\"-inf\"), float(\"-inf\") \n",
    "        min1, min2 = float(\"inf\"), float(\"inf\")                 \n",
    "\n",
    "        for num in nums:\n",
    "            # Update top 3 max\n",
    "            if num > fe:\n",
    "                te, se, fe = se, fe, num\n",
    "            elif num > se:\n",
    "                te, se = se, num\n",
    "            elif num > te:\n",
    "                te = num\n",
    "\n",
    "            # Update bottom 2 min\n",
    "            if num < min1:\n",
    "                min2, min1 = min1, num\n",
    "            elif num < min2:\n",
    "                min2 = num\n",
    "\n",
    "        return max(fe * se * te, fe * min1 * min2)\n",
    "\n",
    "nums = [-100,1,2,-90,3,4]\n",
    "s = Solution()\n",
    "s.maximumProduct(nums)"
   ]
  }
 ],
 "metadata": {
  "kernelspec": {
   "display_name": "base",
   "language": "python",
   "name": "python3"
  },
  "language_info": {
   "codemirror_mode": {
    "name": "ipython",
    "version": 3
   },
   "file_extension": ".py",
   "mimetype": "text/x-python",
   "name": "python",
   "nbconvert_exporter": "python",
   "pygments_lexer": "ipython3",
   "version": "3.12.11"
  }
 },
 "nbformat": 4,
 "nbformat_minor": 5
}
