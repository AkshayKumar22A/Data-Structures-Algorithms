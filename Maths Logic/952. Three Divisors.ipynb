{
 "cells": [
  {
   "cell_type": "markdown",
   "id": "fc428d58",
   "metadata": {},
   "source": [
    "<h2><a href=\"https://leetcode.com/problems/three-divisors/\">1952. Three Divisors</a></h2><h3>Easy</h3><hr><p>Given an integer <code>n</code>, return <code>true</code><em> if </em><code>n</code><em> has <strong>exactly three positive divisors</strong>. Otherwise, return </em><code>false</code>.</p>\n",
    "\n",
    "<p>An integer <code>m</code> is a <strong>divisor</strong> of <code>n</code> if there exists an integer <code>k</code> such that <code>n = k * m</code>.</p>\n",
    "\n",
    "<p>&nbsp;</p>\n",
    "<p><strong class=\"example\">Example 1:</strong></p>\n",
    "\n",
    "<pre>\n",
    "<strong>Input:</strong> n = 2\n",
    "<strong>Output:</strong> false\n",
    "<strong>Explantion:</strong> 2 has only two divisors: 1 and 2.\n",
    "</pre>\n",
    "\n",
    "<p><strong class=\"example\">Example 2:</strong></p>\n",
    "\n",
    "<pre>\n",
    "<strong>Input:</strong> n = 4\n",
    "<strong>Output:</strong> true\n",
    "<strong>Explantion:</strong> 4 has three divisors: 1, 2, and 4.\n",
    "</pre>\n",
    "\n",
    "<p>&nbsp;</p>\n",
    "<p><strong>Constraints:</strong></p>\n",
    "\n",
    "<ul>\n",
    "\t<li><code>1 &lt;= n &lt;= 10<sup>4</sup></code></li>\n",
    "</ul>"
   ]
  },
  {
   "cell_type": "markdown",
   "id": "1f9470fb",
   "metadata": {},
   "source": [
    "## Code Explanation: Three Divisors\n",
    "\n",
    "### 1. Problem Statement\n",
    "Given an integer `n`, determine if it has exactly three positive divisors. Return `True` if it does, otherwise return `False`.\n",
    "\n",
    "---\n",
    "\n",
    "### 2. Intuition and Approach\n",
    "A number has exactly three positive divisors if and only if it is the square of a prime number. For example, 4 has divisors {1, 2, 4} and 4 = 2², where 2 is prime. The code checks all divisors of `n` and counts them to see if there are exactly three.\n",
    "\n",
    "---\n",
    "\n",
    "### 3. Code Explanation in Details\n",
    "- The function iterates from 1 to √n.\n",
    "- For each `i`, if `i` divides `n`, both `i` and `n//i` are added to the list of divisors (unless they are the same).\n",
    "- After collecting all divisors, it checks if the count is 3.\n",
    "- Returns `True` if there are exactly three divisors, else `False`.\n",
    "\n",
    "---\n",
    "\n",
    "### 4. Dry Run\n",
    "For `n = 4`:\n",
    "- i = 1: 4 % 1 == 0 → add 1 and 4\n",
    "- i = 2: 4 % 2 == 0 → add 2\n",
    "- Divisors: [1, 4, 2]\n",
    "- Count = 3 → returns `True`\n",
    "\n",
    "For `n = 2`:\n",
    "- i = 1: 2 % 1 == 0 → add 1 and 2\n",
    "- Divisors: [1, 2]\n",
    "- Count = 2 → returns `False`\n",
    "\n",
    "---\n",
    "\n",
    "### 5. Edge Cases\n",
    "- Zero input: 0 has infinite divisors, but the code will not handle 0 correctly.\n",
    "- Negative numbers: The code is designed for positive integers; negative numbers are not considered.\n",
    "- n = 1: Only one divisor (1), returns `False`.\n",
    "\n",
    "---\n",
    "\n",
    "### 6. Time and Space Complexity\n",
    "- **Time Complexity:** O(√n), since it iterates up to √n.\n",
    "- **Space Complexity:** O(d), where d is the number of divisors (at most O(n) in worst case, but for this problem, only up to 3)."
   ]
  },
  {
   "cell_type": "code",
   "execution_count": 20,
   "id": "4ee964ac",
   "metadata": {},
   "outputs": [
    {
     "data": {
      "text/plain": [
       "True"
      ]
     },
     "execution_count": 20,
     "metadata": {},
     "output_type": "execute_result"
    }
   ],
   "source": [
    "class Solution:\n",
    "    def isThree(self, n: int) -> bool:\n",
    "        fact = []\n",
    "        for i in range(1,int(sqrt(n))+1):\n",
    "            if n%i == 0:\n",
    "                fact.append(i)\n",
    "                if i != n//i:\n",
    "                    fact.append(n//i)\n",
    "        ans = len(fact)\n",
    "        return True if ans==3 else False\n",
    "    \n",
    "sol = Solution()\n",
    "sol.isThree(4)"
   ]
  },
  {
   "cell_type": "markdown",
   "id": "16f83b39",
   "metadata": {},
   "source": [
    "## Code Explanation: Optimized Three Divisors\n",
    "\n",
    "### 1. Problem Statement\n",
    "Given an integer `n`, determine if it has exactly three positive divisors. Return `True` if it does, otherwise return `False`.\n",
    "\n",
    "---\n",
    "\n",
    "### 2. Intuition and Approach\n",
    "A number has exactly three positive divisors if and only if it is the square of a prime number. This is because the divisors of `p^2` (where `p` is prime) are {1, p, p^2}. The optimized code checks if `n` is a perfect square and if its square root is a prime number.\n",
    "\n",
    "---\n",
    "\n",
    "### 3. Code Explanation in Details\n",
    "- Calculate the square root of `n`.\n",
    "- If the square of the root is not equal to `n`, then `n` is not a perfect square, so return `False`.\n",
    "- If the root is less than 2, it cannot be prime, so return `False`.\n",
    "- Check if the root is prime by testing divisibility from 2 up to the square root of the root.\n",
    "- If the root is divisible by any number in this range, it is not prime, so return `False`.\n",
    "- If all checks pass, return `True`.\n",
    "\n",
    "---\n",
    "\n",
    "### 4. Dry Run\n",
    "For `n = 4`:\n",
    "- root = sqrt(4) = 2\n",
    "- 2^2 == 4 → True\n",
    "- 2 >= 2 → True\n",
    "- Check if 2 is prime: No divisors between 2 and sqrt(2), so 2 is prime\n",
    "- Returns `True`\n",
    "\n",
    "For `n = 9`:\n",
    "- root = sqrt(9) = 3\n",
    "- 3^2 == 9 → True\n",
    "- 3 >= 2 → True\n",
    "- Check if 3 is prime: No divisors between 2 and sqrt(3), so 3 is prime\n",
    "- Returns `True`\n",
    "\n",
    "For `n = 8`:\n",
    "- root = sqrt(8) ≈ 2.828\n",
    "- 2.828^2 != 8 → False\n",
    "- Returns `False`\n",
    "\n",
    "---\n",
    "\n",
    "### 5. Edge Cases\n",
    "- Zero input: 0 is not a perfect square of a prime, returns `False`.\n",
    "- Negative numbers: Not considered, as the code is for positive integers.\n",
    "- n = 1: root = 1, which is not prime, returns `False`.\n",
    "\n",
    "---\n",
    "\n",
    "### 6. Time and Space Complexity\n",
    "- **Time Complexity:** O(√n), for checking if the root is prime.\n",
    "- **Space Complexity:** O(1), only a few variables are used."
   ]
  },
  {
   "cell_type": "code",
   "execution_count": 21,
   "id": "ac0e2de2",
   "metadata": {},
   "outputs": [
    {
     "data": {
      "text/plain": [
       "True"
      ]
     },
     "execution_count": 21,
     "metadata": {},
     "output_type": "execute_result"
    }
   ],
   "source": [
    "class Solution:\n",
    "    def isThree(self, n: int) -> bool:\n",
    "        # if n = prime² then n has exactly 3 divisors \n",
    "        root = sqrt(n)\n",
    "        if root ** 2 != n:\n",
    "            return False\n",
    "        if root < 2:\n",
    "            return False\n",
    "        for i in range(2, int(root**0.5)+1):\n",
    "            if root % i == 0:\n",
    "                return False\n",
    "        return True\n",
    "    \n",
    "sol = Solution()\n",
    "sol.isThree(4)"
   ]
  }
 ],
 "metadata": {
  "kernelspec": {
   "display_name": "base",
   "language": "python",
   "name": "python3"
  },
  "language_info": {
   "codemirror_mode": {
    "name": "ipython",
    "version": 3
   },
   "file_extension": ".py",
   "mimetype": "text/x-python",
   "name": "python",
   "nbconvert_exporter": "python",
   "pygments_lexer": "ipython3",
   "version": "3.12.11"
  }
 },
 "nbformat": 4,
 "nbformat_minor": 5
}
