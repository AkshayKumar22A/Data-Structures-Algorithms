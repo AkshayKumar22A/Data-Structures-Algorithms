{
 "cells": [
  {
   "cell_type": "markdown",
   "id": "a2ae373b",
   "metadata": {},
   "source": [
    "<h2><a href=\"https://leetcode.com/problems/unique-number-of-occurrences/\">1207. Unique Number of Occurrences</a></h2><h3>Easy</h3><hr><p>Given an array of integers <code>arr</code>, return <code>true</code> <em>if the number of occurrences of each value in the array is <strong>unique</strong> or </em><code>false</code><em> otherwise</em>.</p>\n",
    "\n",
    "<p>&nbsp;</p>\n",
    "<p><strong class=\"example\">Example 1:</strong></p>\n",
    "\n",
    "<pre>\n",
    "<strong>Input:</strong> arr = [1,2,2,1,1,3]\n",
    "<strong>Output:</strong> true\n",
    "<strong>Explanation:</strong>&nbsp;The value 1 has 3 occurrences, 2 has 2 and 3 has 1. No two values have the same number of occurrences.</pre>\n",
    "\n",
    "<p><strong class=\"example\">Example 2:</strong></p>\n",
    "\n",
    "<pre>\n",
    "<strong>Input:</strong> arr = [1,2]\n",
    "<strong>Output:</strong> false\n",
    "</pre>\n",
    "\n",
    "<p><strong class=\"example\">Example 3:</strong></p>\n",
    "\n",
    "<pre>\n",
    "<strong>Input:</strong> arr = [-3,0,1,-3,1,1,1,-3,10,0]\n",
    "<strong>Output:</strong> true\n",
    "</pre>\n",
    "\n",
    "<p>&nbsp;</p>\n",
    "<p><strong>Constraints:</strong></p>\n",
    "\n",
    "<ul>\n",
    "\t<li><code>1 &lt;= arr.length &lt;= 1000</code></li>\n",
    "\t<li><code>-1000 &lt;= arr[i] &lt;= 1000</code></li>\n",
    "</ul>\n"
   ]
  },
  {
   "cell_type": "markdown",
   "id": "117ddbf2",
   "metadata": {},
   "source": [
    "# Explanation: Unique Number of Occurrences\n",
    "\n",
    "## Intuition and Approach\n",
    "- First count how many times each value appears in `arr` using a frequency map (`dict`).\n",
    "- Then check whether the multiset of frequencies contains duplicates: if the number of distinct frequencies equals the number of distinct values, all frequencies are unique.\n",
    "- Implementation uses `len(freq_map) == len(set(freq_map.values()))` to test uniqueness of frequencies.\n",
    "\n",
    "## Dry Run\n",
    "Example 1: `arr = [1,2,2,1,1,3]`\n",
    "- Step 1: Build freq_map: iterate elements:\n",
    "  - 1 -> freq_map = {1:1}\n",
    "  - 2 -> freq_map = {1:1, 2:1}\n",
    "  - 2 -> freq_map = {1:1, 2:2}\n",
    "  - 1 -> freq_map = {1:2, 2:2}\n",
    "  - 1 -> freq_map = {1:3, 2:2}\n",
    "  - 3 -> freq_map = {1:3, 2:2, 3:1}\n",
    "- Step 2: freq_map.values() => [3,2,1]. set(...) => {1,2,3}. lengths equal (3 == 3) => return True.\n",
    "\n",
    "Example 2: `arr = [1,2]`\n",
    "- freq_map = {1:1, 2:1}\n",
    "- freq_map.values() => [1,1]. set(...) => {1}. lengths: 2 != 1 => return False.\n",
    "\n",
    "Example 3: `arr = [-3,0,1,-3,1,1,1,-3,10,0]`\n",
    "- freq_map = {-3:3, 0:2, 1:4, 10:1}\n",
    "- values = [3,2,4,1], set(values) = {1,2,3,4} -> lengths equal -> True.\n",
    "\n",
    "## Edge Cases and Input Considerations\n",
    "- Empty array: constraints require at least one element; if empty, `freq_map` is empty and the function returns True (0 == 0) — behavior depends on how you want to treat empty input.\n",
    "- Single element: `arr=[x]` -> `freq_map={x:1}` -> True.\n",
    "- Zero values: `0` is a valid integer in constraints; counting works fine.\n",
    "- Negative values: allowed by constraints (arr[i] can be negative); `dict` keys can be negative — works fine.\n",
    "- All elements identical: freq_map has one key with count n; values set size is 1 and freq_map size is 1 -> True.\n",
    "- Many unique elements: if all elements occur once, freq_map size == n, set(values) = {1} so sizes differ unless n==1.\n",
    "\n",
    "## Time and Space Complexity\n",
    "Let n = len(arr).\n",
    "- Time complexity: Theta(n) to build `freq_map` plus Theta(k) to build `set(freq_map.values())`, where k is number of distinct keys (k <= n). Overall Theta(n).\n",
    "  - Best case: Theta(n) (we must inspect each element at least once).\n",
    "  - Average/Worst case: Theta(n).\n",
    "\n",
    "- Space complexity: Theta(k) additional space to store `freq_map` and Theta(k) for the set; worst-case k = n so Theta(n) extra space.\n",
    "\n",
    "---"
   ]
  },
  {
   "cell_type": "code",
   "execution_count": 1,
   "id": "c167b803",
   "metadata": {},
   "outputs": [
    {
     "name": "stdout",
     "output_type": "stream",
     "text": [
      "True\n"
     ]
    }
   ],
   "source": [
    "from typing import List\n",
    "class Solution:\n",
    "    def uniqueOccurrences(self, arr: List[int]) -> bool:\n",
    "        l = len(arr)\n",
    "        freq_map = dict()\n",
    "        for i in range(l):\n",
    "            freq_map[arr[i]] = freq_map.get(arr[i],0) + 1\n",
    "        \n",
    "        return len(freq_map) == len(set(freq_map.values()))\n",
    "\n",
    "ans = Solution().uniqueOccurrences([-3,0,1,-3,1,1,1,-3,10,0])\n",
    "print(ans)"
   ]
  }
 ],
 "metadata": {
  "kernelspec": {
   "display_name": "base",
   "language": "python",
   "name": "python3"
  },
  "language_info": {
   "codemirror_mode": {
    "name": "ipython",
    "version": 3
   },
   "file_extension": ".py",
   "mimetype": "text/x-python",
   "name": "python",
   "nbconvert_exporter": "python",
   "pygments_lexer": "ipython3",
   "version": "3.12.2"
  }
 },
 "nbformat": 4,
 "nbformat_minor": 5
}
