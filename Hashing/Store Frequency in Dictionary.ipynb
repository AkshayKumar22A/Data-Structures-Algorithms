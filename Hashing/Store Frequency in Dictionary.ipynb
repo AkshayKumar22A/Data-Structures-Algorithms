{
 "cells": [
  {
   "cell_type": "markdown",
   "id": "ddd336e6",
   "metadata": {},
   "source": [
    "# Store Frequency in Dictionary\n",
    "\n",
    "## 1. Problem Statement\n",
    "Given a list of integers, count the frequency of each unique element and store the result in a dictionary.\n",
    "\n",
    "**Expected Input and Output:**\n",
    "- Input: A list of integers, e.g., `nums = [5,6,7,7,1,9,111,1,1,5,1,1]`\n",
    "- Output: A dictionary mapping each integer to its frequency, e.g., `{5: 2, 6: 1, 7: 2, 1: 5, 9: 1, 111: 1}`\n",
    "\n",
    "## 2. Intuition and Approach\n",
    "**Intuition:**\n",
    "- To count how many times each number appears, iterate through the list and keep a running count for each number using a dictionary.\n",
    "\n",
    "**Approach:**\n",
    "- Initialize an empty dictionary.\n",
    "- Loop through each element in the list.\n",
    "- For each element, check if it exists in the dictionary:\n",
    "    - If yes, increment its count.\n",
    "    - If no, set its count to 1.\n",
    "\n",
    "## 3. Code Explanation in Details\n",
    "- `freq_map = dict() or {}`: Create an empty dictionary to store frequencies.\n",
    "- Loop through each index in the list:\n",
    "    - If `nums[i]` is already in `freq_map`, increment its value.\n",
    "    - Otherwise, set its value to 1.\n",
    "- After the loop, print the frequency map.\n",
    "- To get the frequency of a specific number (e.g., `x = 5`), print `freq_map[x]`.\n",
    "\n",
    "## 4. Dry Run\n",
    "For `nums = [5,6,7,7,1,9,111,1,1,5,1,1]`:\n",
    "- Start with empty dictionary `{}`\n",
    "- 5 → `{5: 1}`\n",
    "- 6 → `{5: 1, 6: 1}`\n",
    "- 7 → `{5: 1, 6: 1, 7: 1}`\n",
    "- 7 → `{5: 1, 6: 1, 7: 2}`\n",
    "- 1 → `{5: 1, 6: 1, 7: 2, 1: 1}`\n",
    "- 9 → `{5: 1, 6: 1, 7: 2, 1: 1, 9: 1}`\n",
    "- 111 → `{5: 1, 6: 1, 7: 2, 1: 1, 9: 1, 111: 1}`\n",
    "- 1 → `{5: 1, 6: 1, 7: 2, 1: 2, 9: 1, 111: 1}`\n",
    "- 1 → `{5: 1, 6: 1, 7: 2, 1: 3, 9: 1, 111: 1}`\n",
    "- 5 → `{5: 2, 6: 1, 7: 2, 1: 3, 9: 1, 111: 1}`\n",
    "- 1 → `{5: 2, 6: 1, 7: 2, 1: 4, 9: 1, 111: 1}`\n",
    "- 1 → `{5: 2, 6: 1, 7: 2, 1: 5, 9: 1, 111: 1}`\n",
    "\n",
    "## 5. Edge Cases\n",
    "- **Empty List:** Returns an empty dictionary.\n",
    "- **All Elements Same:** Returns a dictionary with one key and value equal to the length of the list.\n",
    "- **Negative Numbers:** Works for negative numbers as well.\n",
    "- **Zero Input:** Works for zero as an element in the list.\n",
    "\n",
    "## 6. Time and Space Complexity\n",
    "- **Time Complexity:** $O(n)$, where $n$ is the length of the list (each element is processed once).\n",
    "- **Space Complexity:** $O(k)$, where $k$ is the number of unique elements in the list (dictionary size).\n"
   ]
  },
  {
   "cell_type": "code",
   "execution_count": 2,
   "id": "ea831143",
   "metadata": {},
   "outputs": [
    {
     "name": "stdout",
     "output_type": "stream",
     "text": [
      "{5: 2, 6: 1, 7: 2, 1: 5, 9: 1, 111: 1}\n",
      "2\n"
     ]
    }
   ],
   "source": [
    "nums = [5,6,7,7,1,9,111,1,1,5,1,1]\n",
    "freq_map = dict()\n",
    "for i in range(0,len(nums)):\n",
    "    if nums[i] in freq_map:\n",
    "        freq_map[nums[i]]+=1\n",
    "    else :\n",
    "        freq_map[nums[i]] = 1\n",
    "print(freq_map)\n",
    "\n",
    "x = 5\n",
    "print(freq_map[x])"
   ]
  },
  {
   "cell_type": "markdown",
   "id": "a6195474",
   "metadata": {},
   "source": [
    "# Store Frequency in Dictionary (Using get method)\n",
    "\n",
    "## 1. Problem Statement\n",
    "Given a list of integers, count the frequency of each unique element and store the result in a dictionary using the `get()` method.\n",
    "\n",
    "**Expected Input and Output:**\n",
    "- Input: A list of integers, e.g., `nums = [5,6,7,7,1,9,111,1,1,5,1,1]`\n",
    "- Output: A dictionary mapping each integer to its frequency, e.g., `{5: 2, 6: 1, 7: 2, 1: 5, 9: 1, 111: 1}`\n",
    "\n",
    "## 2. Intuition and Approach\n",
    "**Intuition:**\n",
    "- The `get()` method allows us to retrieve the current count of an element, defaulting to 0 if it does not exist, making frequency counting concise and efficient.\n",
    "\n",
    "**Approach:**\n",
    "- Initialize an empty dictionary.\n",
    "- Loop through each element in the list.\n",
    "- For each element, update its count using `hash_map.get(nums[i], 0) + 1`.\n",
    "\n",
    "## 3. Code Explanation in Details\n",
    "- `hash_map = {} or dict()`: Create an empty dictionary to store frequencies.\n",
    "- Loop through each index in the list:\n",
    "    - For each `nums[i]`, set `hash_map[nums[i]] = hash_map.get(nums[i], 0) + 1`.\n",
    "    - This retrieves the current count (or 0 if not present) and increments it by 1.\n",
    "- After the loop, print the frequency map.\n",
    "\n",
    "## 4. Dry Run\n",
    "For `nums = [5,6,7,7,1,9,111,1,1,5,1,1]`:\n",
    "- Start with empty dictionary `{}`\n",
    "- 5 → `{5: 1}`\n",
    "- 6 → `{5: 1, 6: 1}`\n",
    "- 7 → `{5: 1, 6: 1, 7: 1}`\n",
    "- 7 → `{5: 1, 6: 1, 7: 2}`\n",
    "- 1 → `{5: 1, 6: 1, 7: 2, 1: 1}`\n",
    "- 9 → `{5: 1, 6: 1, 7: 2, 1: 1, 9: 1}`\n",
    "- 111 → `{5: 1, 6: 1, 7: 2, 1: 1, 9: 1, 111: 1}`\n",
    "- 1 → `{5: 1, 6: 1, 7: 2, 1: 2, 9: 1, 111: 1}`\n",
    "- 1 → `{5: 1, 6: 1, 7: 2, 1: 3, 9: 1, 111: 1}`\n",
    "- 5 → `{5: 2, 6: 1, 7: 2, 1: 3, 9: 1, 111: 1}`\n",
    "- 1 → `{5: 2, 6: 1, 7: 2, 1: 4, 9: 1, 111: 1}`\n",
    "- 1 → `{5: 2, 6: 1, 7: 2, 1: 5, 9: 1, 111: 1}`\n",
    "\n",
    "## 5. Edge Cases\n",
    "- **Empty List:** Returns an empty dictionary.\n",
    "- **All Elements Same:** Returns a dictionary with one key and value equal to the length of the list.\n",
    "- **Negative Numbers:** Works for negative numbers as well.\n",
    "- **Zero Input:** Works for zero as an element in the list.\n",
    "\n",
    "## 6. Time and Space Complexity\n",
    "- **Time Complexity:** $O(n)$, where $n$ is the length of the list (each element is processed once).\n",
    "- **Space Complexity:** $O(k)$, where $k$ is the number of unique elements in the list (dictionary size).\n"
   ]
  },
  {
   "cell_type": "code",
   "execution_count": 5,
   "id": "cae99579",
   "metadata": {},
   "outputs": [
    {
     "name": "stdout",
     "output_type": "stream",
     "text": [
      "{5: 2, 6: 1, 7: 2, 1: 5, 9: 1, 111: 1}\n"
     ]
    }
   ],
   "source": [
    "nums = [5,6,7,7,1,9,111,1,1,5,1,1]\n",
    "hash_map = {}\n",
    "for i in range (0,len(nums)):\n",
    "    hash_map[nums[i]] = hash_map.get(nums[i],0)+1\n",
    "print(hash_map)"
   ]
  }
 ],
 "metadata": {
  "kernelspec": {
   "display_name": "base",
   "language": "python",
   "name": "python3"
  },
  "language_info": {
   "codemirror_mode": {
    "name": "ipython",
    "version": 3
   },
   "file_extension": ".py",
   "mimetype": "text/x-python",
   "name": "python",
   "nbconvert_exporter": "python",
   "pygments_lexer": "ipython3",
   "version": "3.12.11"
  }
 },
 "nbformat": 4,
 "nbformat_minor": 5
}
