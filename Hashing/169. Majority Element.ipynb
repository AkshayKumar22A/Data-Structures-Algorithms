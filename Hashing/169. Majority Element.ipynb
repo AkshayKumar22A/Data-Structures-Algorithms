{
 "cells": [
  {
   "cell_type": "markdown",
   "id": "386d9453",
   "metadata": {},
   "source": [
    "<h2><a href=\"https://leetcode.com/problems/majority-element\">169. Majority Element</a></h2><h3>Easy</h3><hr><p>Given an array <code>nums</code> of size <code>n</code>, return <em>the majority element</em>.</p>\n",
    "\n",
    "<p>The majority element is the element that appears more than <code>&lfloor;n / 2&rfloor;</code> times. You may assume that the majority element always exists in the array.</p>\n",
    "\n",
    "<p>&nbsp;</p>\n",
    "<p><strong class=\"example\">Example 1:</strong></p>\n",
    "<pre><strong>Input:</strong> nums = [3,2,3]\n",
    "<strong>Output:</strong> 3\n",
    "</pre><p><strong class=\"example\">Example 2:</strong></p>\n",
    "<pre><strong>Input:</strong> nums = [2,2,1,1,1,2,2]\n",
    "<strong>Output:</strong> 2\n",
    "</pre>\n",
    "<p>&nbsp;</p>\n",
    "<p><strong>Constraints:</strong></p>\n",
    "\n",
    "<ul>\n",
    "\t<li><code>n == nums.length</code></li>\n",
    "\t<li><code>1 &lt;= n &lt;= 5 * 10<sup>4</sup></code></li>\n",
    "\t<li><code>-10<sup>9</sup> &lt;= nums[i] &lt;= 10<sup>9</sup></code></li>\n",
    "</ul>\n",
    "\n",
    "<p>&nbsp;</p>\n",
    "<strong>Follow-up:</strong> Could you solve the problem in linear time and in <code>O(1)</code> space?"
   ]
  },
  {
   "cell_type": "code",
   "execution_count": 7,
   "id": "eddf94f6",
   "metadata": {},
   "outputs": [
    {
     "data": {
      "text/plain": [
       "2"
      ]
     },
     "execution_count": 7,
     "metadata": {},
     "output_type": "execute_result"
    }
   ],
   "source": [
    "from typing import List\n",
    "class Solution:\n",
    "    def majorityElement(self, nums: List[int]) -> int:\n",
    "        element = majority = 0\n",
    "        freq_map = {}\n",
    "        for i in nums:\n",
    "            freq_map[i] = freq_map.get(i,0) + 1\n",
    "            if freq_map[i] > majority:\n",
    "                element = i\n",
    "                majority = freq_map[i]\n",
    "        return element\n",
    "\n",
    "nums = [2,2,1,1,1,2,2]\n",
    "s = Solution()\n",
    "s.majorityElement(nums)"
   ]
  },
  {
   "cell_type": "markdown",
   "id": "2987b05b",
   "metadata": {},
   "source": [
    "# Majority Element: Hash Map Solution\n",
    "\n",
    "---\n",
    "\n",
    "## 1. Problem Statement\n",
    "Given an array `nums` of size `n`, return the majority element. The majority element is the element that appears more than ⌊n / 2⌋ times. You may assume that the majority element always exists in the array.\n",
    "\n",
    "---\n",
    "\n",
    "## 2. Intuition and Approach\n",
    "To find the majority element, count the frequency of each element in the array. The element with the highest frequency (greater than n/2) is the majority element. A hash map (dictionary) is used to store and update frequencies efficiently.\n",
    "\n",
    "---\n",
    "\n",
    "## 3. Code Explanation in Details\n",
    "```python\n",
    "class Solution:\n",
    "    def majorityElement(self, nums: List[int]) -> int:\n",
    "        element = majority = 0\n",
    "        freq_map = {}\n",
    "        for i in nums:\n",
    "            freq_map[i] = freq_map.get(i,0) + 1\n",
    "            if freq_map[i] > majority:\n",
    "                element = i\n",
    "                majority = freq_map[i]\n",
    "        return element\n",
    "```\n",
    "- Initialize `element` and `majority` to 0.\n",
    "- Create an empty dictionary `freq_map` to store frequencies.\n",
    "- For each number in `nums`, increment its count in `freq_map`.\n",
    "- If the current count exceeds `majority`, update `element` and `majority`.\n",
    "- After the loop, return the element with the highest frequency.\n",
    "\n",
    "---\n",
    "\n",
    "## 4. Dry Run\n",
    "Example: `nums = [2,2,1,1,1,2,2]`\n",
    "- freq_map: {}\n",
    "- Loop:\n",
    "  - 2: freq_map = {2:1}, majority = 1, element = 2\n",
    "  - 2: freq_map = {2:2}, majority = 2, element = 2\n",
    "  - 1: freq_map = {2:2, 1:1}\n",
    "  - 1: freq_map = {2:2, 1:2}\n",
    "  - 1: freq_map = {2:2, 1:3}, majority = 3, element = 1\n",
    "  - 2: freq_map = {2:3, 1:3}\n",
    "  - 2: freq_map = {2:4, 1:3}, majority = 4, element = 2\n",
    "- Return 2\n",
    "\n",
    "---\n",
    "\n",
    "## 5. Edge Cases\n",
    "- **Empty Array:** Not possible as per constraints (n ≥ 1).\n",
    "- **Single Element:** That element is the majority.\n",
    "- **All Elements Same:** That element is the majority.\n",
    "- **Negative Numbers:** Works for any integer values.\n",
    "- **Large Array:** Efficient for arrays up to 5 * 10⁴ elements.\n",
    "\n",
    "---\n",
    "\n",
    "## 6. Time and Space Complexity\n",
    "- **Time Complexity:** $O(n)$ (single pass through array)\n",
    "- **Space Complexity:** $O(n)$ (in worst case, all elements are unique)\n",
    "\n",
    "---\n",
    "\n",
    "**Note:** For O(1) space, the Boyer-Moore Voting Algorithm can be used.\n",
    "\n",
    "**Youtube Solution** \n",
    "- https://www.youtube.com/watch?v=nP_ns3uSh80\n",
    "- https://www.youtube.com/watch?v=7pnhv842keE"
   ]
  },
  {
   "cell_type": "code",
   "execution_count": 1,
   "id": "75dc3be7",
   "metadata": {},
   "outputs": [
    {
     "data": {
      "text/plain": [
       "2"
      ]
     },
     "execution_count": 1,
     "metadata": {},
     "output_type": "execute_result"
    }
   ],
   "source": [
    "# Boyer-Moore Vote algorithm\n",
    "from typing import List\n",
    "class Solution:\n",
    "    def majorityElement(self, nums: List[int]) -> int:\n",
    "        l = len(nums)\n",
    "        count = 0\n",
    "        candidate = 0\n",
    "        for i in range(l):\n",
    "            if count == 0:\n",
    "                candidate = nums[i]\n",
    "            if nums[i] == candidate:\n",
    "                count+=1\n",
    "            else:\n",
    "                count-=1\n",
    "        return candidate\n",
    "\n",
    "nums = [2,2,1,1,1,2,2]\n",
    "s = Solution()\n",
    "s.majorityElement(nums)"
   ]
  }
 ],
 "metadata": {
  "kernelspec": {
   "display_name": "base",
   "language": "python",
   "name": "python3"
  },
  "language_info": {
   "codemirror_mode": {
    "name": "ipython",
    "version": 3
   },
   "file_extension": ".py",
   "mimetype": "text/x-python",
   "name": "python",
   "nbconvert_exporter": "python",
   "pygments_lexer": "ipython3",
   "version": "3.12.2"
  }
 },
 "nbformat": 4,
 "nbformat_minor": 5
}
